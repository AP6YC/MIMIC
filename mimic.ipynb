{
 "cells": [
  {
   "cell_type": "code",
   "execution_count": null,
   "metadata": {},
   "outputs": [],
   "source": [
    "from Bio.PDB.PDBParser import PDBParser\n",
    "from pathlib import Path\n",
    "\n",
    "parser = PDBParser(PERMISSIVE=1)\n",
    "\n",
    "structure_id = \"pepsurf\"\n",
    "filename = Path(\"data/6vxx_pepsurf_1592103509_pipe.pdb\")\n",
    "\n",
    "structure = parser.get_structure(structure_id, filename)\n",
    "\n",
    "resolution = structure.header[\"resolution\"]\n",
    "print(resolution)\n",
    "\n",
    "keywords = structure.header[\"keywords\"]\n",
    "print(keywords)"
   ]
  },
  {
   "cell_type": "code",
   "execution_count": null,
   "metadata": {},
   "outputs": [],
   "source": []
  }
 ],
 "metadata": {
  "language_info": {
   "codemirror_mode": {
    "name": "ipython",
    "version": 3
   },
   "file_extension": ".py",
   "mimetype": "text/x-python",
   "name": "python",
   "nbconvert_exporter": "python",
   "pygments_lexer": "ipython3",
   "version": 3
  },
  "orig_nbformat": 2
 },
 "nbformat": 4,
 "nbformat_minor": 2
}