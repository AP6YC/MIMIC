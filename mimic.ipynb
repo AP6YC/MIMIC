{
 "cells": [
  {
   "cell_type": "markdown",
   "metadata": {},
   "source": [
    "# MIMIC\n",
    "\n",
    "## Imports and pointers\n",
    "\n",
    "First, begin with imports and data pointers"
   ]
  },
  {
   "cell_type": "code",
   "execution_count": 11,
   "metadata": {},
   "outputs": [],
   "source": [
    "from Bio.PDB.PDBParser import PDBParser\n",
    "from Bio.Seq import Seq\n",
    "# from Bio import motifs, SeqIO\n",
    "from Bio import motifs\n",
    "from pathlib import Path\n",
    "from sklearn.cluster import AgglomerativeClustering\n",
    "from sklearn.cluster import DBSCAN\n",
    "from sklearn import metrics\n",
    "from ipywidgets import interact\n",
    "# from sklearn.datasets import make_blobs\n",
    "# from sklearn.preprocessing import StandardScaler\n",
    "# from scipy.cluster import hierarchy\n",
    "import numpy as np\n",
    "\n",
    "import Levenshtein as lev\n",
    "\n",
    "parser = PDBParser(PERMISSIVE=1)\n",
    "\n",
    "structure_id = \"pepsurf\"\n",
    "pdb_file = Path(\"data/pdb/6vxx_pepsurf_1592103509_pipe.pdb\")\n",
    "mast_file = Path(\"data/meme-suite/mast.xml\")\n",
    "full_file = Path(\"data/full.txt\")"
   ]
  },
  {
   "cell_type": "markdown",
   "metadata": {},
   "source": [
    "## Inspect the PDB file"
   ]
  },
  {
   "cell_type": "code",
   "execution_count": 12,
   "metadata": {
    "tags": []
   },
   "outputs": [
    {
     "output_type": "stream",
     "name": "stdout",
     "text": [
      "Resolution: 2.8\n",
      "Keywords: coronavirus, sars-cov-2, sars-cov, spike glycoprotein, fusion protein, structural genomics, seattle structural genomics center for infectious disease, ssgcid, viral protein\n",
      "C:\\Users\\Sasha\\Anaconda3\\envs\\biopython\\lib\\site-packages\\Bio\\PDB\\StructureBuilder.py:92: PDBConstructionWarning: WARNING: Chain A is discontinuous at line 25539.\n",
      "  PDBConstructionWarning,\n",
      "C:\\Users\\Sasha\\Anaconda3\\envs\\biopython\\lib\\site-packages\\Bio\\PDB\\StructureBuilder.py:92: PDBConstructionWarning: WARNING: Chain B is discontinuous at line 25833.\n",
      "  PDBConstructionWarning,\n",
      "C:\\Users\\Sasha\\Anaconda3\\envs\\biopython\\lib\\site-packages\\Bio\\PDB\\StructureBuilder.py:92: PDBConstructionWarning: WARNING: Chain C is discontinuous at line 26127.\n",
      "  PDBConstructionWarning,\n"
     ]
    }
   ],
   "source": [
    "structure = parser.get_structure(structure_id, pdb_file)\n",
    "print(\"Resolution:\", structure.header[\"resolution\"])\n",
    "print(\"Keywords:\", structure.header[\"keywords\"])"
   ]
  },
  {
   "cell_type": "markdown",
   "metadata": {},
   "source": [
    "## Inspect the MAST data"
   ]
  },
  {
   "cell_type": "code",
   "execution_count": 13,
   "metadata": {
    "tags": []
   },
   "outputs": [
    {
     "output_type": "stream",
     "name": "stdout",
     "text": [
      "Protein\n2534\n5.1.1\nAvailable Attributes:\n{'name': '1', 'counts': None, 'instances': None, 'length': 8, 'alphabet': 'Protein', '_pseudocounts': {'P': 0.0, 'r': 0.0, 'o': 0.0, 't': 0.0, 'e': 0.0, 'i': 0.0, 'n': 0.0}, '_background': {'P': 0.14285714285714285, 'r': 0.14285714285714285, 'o': 0.14285714285714285, 't': 0.14285714285714285, 'e': 0.14285714285714285, 'i': 0.14285714285714285, 'n': 0.14285714285714285}, '_Motif__mask': (), 'evalue': 0.0, 'num_occurrences': 0, 'id': 'ADVDLISM', 'alt_id': 'MEME-1'}\n1 ADVDLISM\n2 GQYHVNEM\n3 EVQDRVD\n['ADVDLISM', 'GQYHVNEM', 'EVQDRVD']\n900\nFalse\n478\n"
     ]
    }
   ],
   "source": [
    "with open(mast_file, 'r') as handle:\n",
    "    record = motifs.parse(handle, \"mast\")\n",
    "\n",
    "# meme_file = Path(\"data/meme-suite/meme.xml\")\n",
    "# with open(meme_file) as handle:\n",
    "#     record = motifs.parse(handle, \"meme\")\n",
    "print(record.alphabet)\n",
    "print(len(record.sequences))\n",
    "print(record.version)\n",
    "print(\"Available Attributes:\")\n",
    "print(record[0].__dict__)\n",
    " \n",
    "for motif in record[:3]:\n",
    "    print(motif.name, motif.id)\n",
    "\n",
    "mast_data = []\n",
    "for motif in record:\n",
    "    mast_data.append(motif.id)\n",
    "\n",
    "print(mast_data[:3])\n",
    "print(len(mast_data)) \n",
    "print(len(mast_data) == len(set(mast_data)))\n",
    "print(len(set(mast_data)))"
   ]
  },
  {
   "cell_type": "markdown",
   "metadata": {},
   "source": [
    "## Inspect the Excel data (copied to a text file)"
   ]
  },
  {
   "cell_type": "code",
   "execution_count": 14,
   "metadata": {
    "tags": []
   },
   "outputs": [
    {
     "output_type": "stream",
     "name": "stdout",
     "text": [
      "Length of the data: 562\nUnique entries in the data: 562\nNumber of entries different from the mast data: 506\nRaw Data Distance Matrix:\n[[0. 6. 7. ... 7. 6. 8.]\n [6. 0. 6. ... 8. 7. 7.]\n [7. 6. 0. ... 6. 7. 8.]\n ...\n [7. 8. 6. ... 0. 3. 4.]\n [6. 7. 7. ... 3. 0. 3.]\n [8. 7. 8. ... 4. 3. 0.]]\nMaximum distance within the matrix: 8.0\n"
     ]
    }
   ],
   "source": [
    "# Get the raw data as a list and inspect\n",
    "data = []\n",
    "with open(full_file, 'r') as handle:\n",
    "    for count, line in enumerate(handle, start=1):\n",
    "        if count % 2 == 0:\n",
    "            data.append(line.rstrip())\n",
    "            \n",
    "print('Length of the data:', len(data))\n",
    "print('Unique entries in the data:', len(set(data)))\n",
    "print('Number of entries different from the mast data:', len(set(data).difference(set(mast_data))))\n",
    "\n",
    "# Generate the full distance matrix\n",
    "n_samples = len(data)\n",
    "dist_matrix = np.zeros((n_samples, n_samples))\n",
    "for i in range(n_samples):\n",
    "    for j in range(n_samples):\n",
    "        dist_matrix[i, j] = lev.distance(data[i], data[j])\n",
    "\n",
    "print('Raw Data Distance Matrix:')\n",
    "print(dist_matrix)\n",
    "print('Maximum distance within the matrix:', max(dist_matrix[0]))"
   ]
  },
  {
   "cell_type": "code",
   "execution_count": 15,
   "metadata": {},
   "outputs": [
    {
     "output_type": "display_data",
     "data": {
      "text/plain": "interactive(children=(IntSlider(value=5, description='truncate', max=10), IntSlider(value=20, description='thr…",
      "application/vnd.jupyter.widget-view+json": {
       "version_major": 2,
       "version_minor": 0,
       "model_id": "8c3c7b0e3a044b4eb506d598d6ad0885"
      }
     },
     "metadata": {}
    }
   ],
   "source": [
    "import scipy.spatial.distance as ssd\n",
    "from scipy.cluster import hierarchy as h\n",
    "import matplotlib.pyplot as plt\n",
    "\n",
    "distArray = ssd.squareform(dist_matrix)\n",
    "Z = h.ward(distArray)\n",
    "\n",
    "@interact\n",
    "def get_dendrogram(truncate=(0, 10, 1), threshold=(0, 40, 1)):\n",
    "    # convert the redundant n*n square matrix form into a condensed nC2 array\n",
    "    plt.figure(figsize=(12, 6))\n",
    "    plt.title('Naive Hierarchy')\n",
    "    h.dendrogram(Z,truncate_mode='level', p=truncate, leaf_rotation=0, orientation=\"left\", color_threshold=threshold)\n",
    "    plt.axvline(x=threshold, linewidth=4, color='r')\n",
    "    plt.xlabel(\"Number of points in node (or index of point if no parenthesis)\")\n",
    "    plt.ylabel(\"Bins\")\n",
    "    plt.show()"
   ]
  },
  {
   "cell_type": "code",
   "execution_count": 16,
   "metadata": {},
   "outputs": [
    {
     "output_type": "stream",
     "name": "stderr",
     "text": [
      "C:\\Users\\Sasha\\Anaconda3\\envs\\biopython\\lib\\site-packages\\scipy\\cluster\\hierarchy.py:826: ClusterWarning: scipy.cluster: The symmetric non-negative hollow observation matrix looks suspiciously like an uncondensed distance matrix\n  return linkage(y, method='ward', metric='euclidean')\n"
     ]
    },
    {
     "output_type": "display_data",
     "data": {
      "text/plain": "interactive(children=(IntSlider(value=5, description='truncate', max=10), IntSlider(value=350, description='th…",
      "application/vnd.jupyter.widget-view+json": {
       "version_major": 2,
       "version_minor": 0,
       "model_id": "1c6c220558174e7e9039867753d32ae7"
      }
     },
     "metadata": {}
    }
   ],
   "source": [
    "from scipy.cluster.hierarchy import dendrogram\n",
    "\n",
    "def plot_dendrogram(model, **kwargs):\n",
    "    # Create linkage matrix and then plot the dendrogram\n",
    "\n",
    "    # create the counts of samples under each node\n",
    "    counts = np.zeros(model.children_.shape[0])\n",
    "    n_samples = len(model.labels_)\n",
    "    for i, merge in enumerate(model.children_):\n",
    "        current_count = 0\n",
    "        for child_idx in merge:\n",
    "            if child_idx < n_samples:\n",
    "                current_count += 1  # leaf node\n",
    "            else:\n",
    "                current_count += counts[child_idx - n_samples]\n",
    "        counts[i] = current_count\n",
    "\n",
    "    linkage_matrix = np.column_stack([model.children_, model.distances_,\n",
    "                                      counts]).astype(float)\n",
    "\n",
    "    # Plot the corresponding dendrogram\n",
    "    dendrogram(linkage_matrix, **kwargs)\n",
    "\n",
    "# setting distance_threshold=0 ensures we compute the full tree.\n",
    "model = AgglomerativeClustering(distance_threshold=0, n_clusters=None).fit(dist_matrix)\n",
    "\n",
    "@interact\n",
    "def gen_diagram(truncate=(0, 10, 1), threshold=(0, 700, 1)):\n",
    "    plt.figure(figsize=(12, 6))\n",
    "    plt.title('Agglomerative Hierarchy, P=' + str(threshold))\n",
    "    # plot the top three levels of the dendrogram\n",
    "    plot_dendrogram(model, truncate_mode='level', p=truncate, leaf_rotation=0, orientation=\"left\", color_threshold=threshold, above_threshold_color='black')\n",
    "    # plot_dendrogram(model, truncate_mode='level', p=truncate, color_threshold=threshold)\n",
    "    # plt.yscale('log', basey=2)\n",
    "    plt.axvline(x=threshold, linewidth=4, color='r')\n",
    "    plt.ylabel(\"Number of points in node (or index of point if no parenthesis)\")\n",
    "    plt.xlabel(\"Bins\")\n",
    "    plt.show()"
   ]
  },
  {
   "cell_type": "code",
   "execution_count": 17,
   "metadata": {
    "tags": []
   },
   "outputs": [
    {
     "output_type": "display_data",
     "data": {
      "text/plain": "interactive(children=(IntSlider(value=10, description='eps', max=30, min=-10), IntSlider(value=20, description…",
      "application/vnd.jupyter.widget-view+json": {
       "version_major": 2,
       "version_minor": 0,
       "model_id": "70763503cb524c7589c99a118c777abd"
      }
     },
     "metadata": {}
    }
   ],
   "source": [
    "import ipywidgets as widgets\n",
    "from ipywidgets import interact, interact_manual\n",
    "\n",
    "# #########################################################################\n",
    "# Compute DBSCAN\n",
    "@interact\n",
    "def get_db(eps=10, min_samples=(0,40,1)):\n",
    "    db = DBSCAN(eps=eps, min_samples=min_samples).fit(dist_matrix)\n",
    "    core_samples_mask = np.zeros_like(db.labels_, dtype=bool)\n",
    "    core_samples_mask[db.core_sample_indices_] = True\n",
    "    labels = db.labels_\n",
    "\n",
    "    # Number of clusters in labels, ignoring noise if present.\n",
    "    n_clusters_ = len(set(labels)) - (1 if -1 in labels else 0)\n",
    "    n_noise_ = list(labels).count(-1)\n",
    "\n",
    "    print('Estimated number of clusters: %d' % n_clusters_)\n",
    "    print('Estimated number of noise points: %d' % n_noise_)\n",
    "\n",
    "# agc = AgglomerativeClustering().fit(dist_matrix)\n",
    "# agc.labels_"
   ]
  },
  {
   "cell_type": "code",
   "execution_count": 18,
   "metadata": {},
   "outputs": [],
   "source": [
    "# print(\"Homogeneity: %0.3f\" % metrics.homogeneity_score(labels_true, labels))\n",
    "# print(\"Completeness: %0.3f\" % metrics.completeness_score(labels_true, labels))\n",
    "# print(\"V-measure: %0.3f\" % metrics.v_measure_score(labels_true, labels))\n",
    "# print(\"Adjusted Rand Index: %0.3f\"\n",
    "#       % metrics.adjusted_rand_score(labels_true, labels))\n",
    "# print(\"Adjusted Mutual Information: %0.3f\"\n",
    "#       % metrics.adjusted_mutual_info_score(labels_true, labels))\n",
    "# print(\"Silhouette Coefficient: %0.3f\"\n",
    "#       % metrics.silhouette_score(X, labels))\n",
    "\n",
    "# # #############################################################################\n",
    "# # Plot result\n",
    "# import matplotlib.pyplot as plt\n",
    "\n",
    "# # Black removed and is used for noise instead.\n",
    "# unique_labels = set(labels)\n",
    "# colors = [plt.cm.Spectral(each)\n",
    "#           for each in np.linspace(0, 1, len(unique_labels))]\n",
    "# for k, col in zip(unique_labels, colors):\n",
    "#     if k == -1:\n",
    "#         # Black used for noise.\n",
    "#         col = [0, 0, 0, 1]\n",
    "\n",
    "#     class_member_mask = (labels == k)\n",
    "\n",
    "#     xy = X[class_member_mask & core_samples_mask]\n",
    "#     plt.plot(xy[:, 0], xy[:, 1], 'o', markerfacecolor=tuple(col),\n",
    "#              markeredgecolor='k', markersize=14)\n",
    "\n",
    "#     xy = X[class_member_mask & ~core_samples_mask]\n",
    "#     plt.plot(xy[:, 0], xy[:, 1], 'o', markerfacecolor=tuple(col),\n",
    "#              markeredgecolor='k', markersize=6)\n",
    "\n",
    "# plt.title('Estimated number of clusters: %d' % n_clusters_)\n",
    "# plt.show()"
   ]
  }
 ],
 "metadata": {
  "language_info": {
   "codemirror_mode": {
    "name": "ipython",
    "version": 3
   },
   "file_extension": ".py",
   "mimetype": "text/x-python",
   "name": "python",
   "nbconvert_exporter": "python",
   "pygments_lexer": "ipython3",
   "version": "3.6.13"
  },
  "orig_nbformat": 2,
  "kernelspec": {
   "name": "python3613jvsc74a57bd01fb17323d49cf82eebe40b0bccb4b3286b539831bf59dad1f0abe8f1458e14d9",
   "display_name": "Python 3.6.13 64-bit ('biopython': conda)"
  },
  "metadata": {
   "interpreter": {
    "hash": "1fb17323d49cf82eebe40b0bccb4b3286b539831bf59dad1f0abe8f1458e14d9"
   }
  }
 },
 "nbformat": 4,
 "nbformat_minor": 2
}