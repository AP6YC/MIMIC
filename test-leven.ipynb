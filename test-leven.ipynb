{
 "cells": [
  {
   "cell_type": "code",
   "execution_count": 6,
   "metadata": {},
   "outputs": [
    {
     "output_type": "execute_result",
     "data": {
      "text/plain": "2"
     },
     "metadata": {},
     "execution_count": 6
    }
   ],
   "source": [
    "import Levenshtein as lev\n",
    "from Bio import motifs\n",
    "\n",
    "from Bio.Seq import Seq\n",
    "instances = [Seq(\"TACAA\"),\n",
    "Seq(\"TACGC\"),\n",
    "Seq(\"TACAC\"),\n",
    "Seq(\"TACCC\"),\n",
    "Seq(\"AACCC\"),\n",
    "Seq(\"AATGC\"),\n",
    "Seq(\"AATGC\"),]\n",
    "\n",
    "\n",
    "lev.distance(str(instances[0]), str(instances[1]))"
   ]
  },
  {
   "cell_type": "code",
   "execution_count": 8,
   "metadata": {},
   "outputs": [
    {
     "output_type": "stream",
     "name": "stdout",
     "text": "[[0. 1. 2. 3. 4. 5.]\n [1. 0. 1. 2. 3. 4.]\n [2. 1. 0. 1. 2. 3.]\n [3. 2. 1. 0. 1. 2.]\n [4. 3. 2. 1. 1. 2.]\n [5. 4. 3. 2. 2. 2.]]\n"
    },
    {
     "output_type": "execute_result",
     "data": {
      "text/plain": "2.0"
     },
     "metadata": {},
     "execution_count": 8
    }
   ],
   "source": [
    "from leven import levenshtein_peptide as lp\n",
    "\n",
    "lp(str(instances[0]), str(instances[1]))"
   ]
  }
 ],
 "metadata": {
  "language_info": {
   "codemirror_mode": {
    "name": "ipython",
    "version": 3
   },
   "file_extension": ".py",
   "mimetype": "text/x-python",
   "name": "python",
   "nbconvert_exporter": "python",
   "pygments_lexer": "ipython3",
   "version": "3.8.3-final"
  },
  "orig_nbformat": 2,
  "kernelspec": {
   "name": "python38364bitmimicconda48c5a9b50f17460189853b4239de1e45",
   "display_name": "Python 3.8.3 64-bit ('mimic': conda)"
  }
 },
 "nbformat": 4,
 "nbformat_minor": 2
}