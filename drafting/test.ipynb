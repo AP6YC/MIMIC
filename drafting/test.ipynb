{
 "cells": [
  {
   "cell_type": "code",
   "execution_count": 6,
   "metadata": {},
   "outputs": [
    {
     "output_type": "stream",
     "name": "stdout",
     "text": "1.77\n"
    },
    {
     "output_type": "execute_result",
     "data": {
      "text/plain": "Seq('AGTACACTGGT')"
     },
     "metadata": {},
     "execution_count": 6
    }
   ],
   "source": [
    "import Bio\n",
    "print(Bio.__version__)\n",
    "from Bio.Seq import Seq\n",
    "\n",
    "my_seq = Seq(\"AGTACACTGGT\")\n",
    "my_seq"
   ]
  },
  {
   "cell_type": "code",
   "execution_count": 14,
   "metadata": {},
   "outputs": [
    {
     "output_type": "stream",
     "name": "stdout",
     "text": "AGTACACTGGT\nAlphabet()\nTCATGTGACCA\nACCAGTGTACT\n"
    }
   ],
   "source": [
    "print(my_seq)\n",
    "print(my_seq.alphabet)\n",
    "print(my_seq.complement())\n",
    "print(my_seq.reverse_complement())"
   ]
  },
  {
   "cell_type": "code",
   "execution_count": 16,
   "metadata": {},
   "outputs": [
    {
     "output_type": "stream",
     "name": "stdout",
     "text": "gi|2765658|emb|Z78533.1|CIZ78533\nSeq('CGTAACAAGGTTTCCGTAGGTGAACCTGCGGAAGGATCATTGATGAGACCGTGG...CGC', SingleLetterAlphabet())\n740\ngi|2765657|emb|Z78532.1|CCZ78532\nSeq('CGTAACAAGGTTTCCGTAGGTGAACCTGCGGAAGGATCATTGTTGAGACAACAG...GGC', SingleLetterAlphabet())\n753\ngi|2765656|emb|Z78531.1|CFZ78531\nSeq('CGTAACAAGGTTTCCGTAGGTGAACCTGCGGAAGGATCATTGTTGAGACAGCAG...TAA', SingleLetterAlphabet())\n748\ngi|2765655|emb|Z78530.1|CMZ78530\nSeq('CGTAACAAGGTTTCCGTAGGTGAACCTGCGGAAGGATCATTGTTGAAACAACAT...CAT', SingleLetterAlphabet())\n744\ngi|2765654|emb|Z78529.1|CLZ78529\nSeq('ACGGCGAGCTGCCGAAGGACATTGTTGAGACAGCAGAATATACGATTGAGTGAA...AAA', SingleLetterAlphabet())\n733\ngi|2765652|emb|Z78527.1|CYZ78527\nSeq('CGTAACAAGGTTTCCGTAGGTGAACCTGCGGAAGGATCATTGTTGAGACAGTAG...CCC', SingleLetterAlphabet())\n718\ngi|2765651|emb|Z78526.1|CGZ78526\nSeq('CGTAACAAGGTTTCCGTAGGTGAACCTGCGGAAGGATCATTGTTGAGACAGTAG...TGT', SingleLetterAlphabet())\n730\ngi|2765650|emb|Z78525.1|CAZ78525\nSeq('TGTTGAGATAGCAGAATATACATCGAGTGAATCCGGAGGACCTGTGGTTATTCG...GCA', SingleLetterAlphabet())\n704\ngi|2765649|emb|Z78524.1|CFZ78524\nSeq('CGTAACAAGGTTTCCGTAGGTGAACCTGCGGAAGGATCATTGTTGAGATAGTAG...AGC', SingleLetterAlphabet())\n740\ngi|2765648|emb|Z78523.1|CHZ78523\nSeq('CGTAACCAGGTTTCCGTAGGTGAACCTGCGGCAGGATCATTGTTGAGACAGCAG...AAG', SingleLetterAlphabet())\n709\ngi|2765647|emb|Z78522.1|CMZ78522\nSeq('CGTAACAAGGTTTCCGTAGGTGAACCTGCGGAAGGATCATTGTTGAGACAGCAG...GAG', SingleLetterAlphabet())\n700\ngi|2765646|emb|Z78521.1|CCZ78521\nSeq('GTAGGTGAACCTGCGGAAGGATCATTGTTGAGACAGTAGAATATATGATCGAGT...ACC', SingleLetterAlphabet())\n726\ngi|2765645|emb|Z78520.1|CSZ78520\nSeq('CGTAACAAGGTTTCCGTAGGTGAACCTGCGGAAGGATCATTGTTGAGACAGCAG...TTT', SingleLetterAlphabet())\n753\ngi|2765644|emb|Z78519.1|CPZ78519\nSeq('ATATGATCGAGTGAATCTGGTGGACTTGTGGTTACTCAGCTCGCCATAGGCTTT...TTA', SingleLetterAlphabet())\n699\ngi|2765643|emb|Z78518.1|CRZ78518\nSeq('CGTAACAAGGTTTCCGTAGGTGAACCTGCGGGAGGATCATTGTTGAGATAGTAG...TCC', SingleLetterAlphabet())\n658\ngi|2765642|emb|Z78517.1|CFZ78517\nSeq('CGTAACAAGGTTTCCGTAGGTGAACCTGCGGAAGGATCATTGTTGAGACAGTAG...AGC', SingleLetterAlphabet())\n752\ngi|2765641|emb|Z78516.1|CPZ78516\nSeq('CGTAACAAGGTTTCCGTAGGTGAACCTGCGGAAGGATCATTGTTGAGACAGTAT...TAA', SingleLetterAlphabet())\n726\ngi|2765640|emb|Z78515.1|MXZ78515\nSeq('CGTAACAAGGTTTCCGTAGGTGAACCTGCGGAAGGATCATTGCTGAGACCGTAG...AGC', SingleLetterAlphabet())\n765\ngi|2765639|emb|Z78514.1|PSZ78514\nSeq('CGTAACAAGGTTTCCGTAGGTGGACCTTCGGGAGGATCATTTTTGAAGCCCCCA...CTA', SingleLetterAlphabet())\n755\ngi|2765638|emb|Z78513.1|PBZ78513\nSeq('CGTAACAAGGTTTCCGTAGGTGAACCTGCGGAAGGATCATTGTTGAGACCGCCA...GAG', SingleLetterAlphabet())\n742\ngi|2765637|emb|Z78512.1|PWZ78512\nSeq('CGTAACAAGGTTTCCGTAGGTGGACCTTCGGGAGGATCATTTTTGAAGCCCCCA...AGC', SingleLetterAlphabet())\n762\ngi|2765636|emb|Z78511.1|PEZ78511\nSeq('CGTAACAAGGTTTCCGTAGGTGAACCTTCGGAAGGATCATTGTTGAGACCCCCA...GGA', SingleLetterAlphabet())\n745\ngi|2765635|emb|Z78510.1|PCZ78510\nSeq('CTAACCAGGGTTCCGAGGTGACCTTCGGGAGGATTCCTTTTTAAGCCCCCGAAA...TTA', SingleLetterAlphabet())\n750\ngi|2765634|emb|Z78509.1|PPZ78509\nSeq('CGTAACAAGGTTTCCGTAGGTGAACCTGCGGAAGGATCATTGTTGAGACCGCCA...GGA', SingleLetterAlphabet())\n731\ngi|2765633|emb|Z78508.1|PLZ78508\nSeq('CGTAACAAGGTTTCCGTAGGTGAACCTGCGGAAGGATCATTGTTGAGACCGCCA...TGA', SingleLetterAlphabet())\n741\ngi|2765632|emb|Z78507.1|PLZ78507\nSeq('CGTAACAAGGTTTCCGTAGGTGAACCTGCGGAAGGATCATTGTTGAGACCCCCA...TGA', SingleLetterAlphabet())\n740\ngi|2765631|emb|Z78506.1|PLZ78506\nSeq('CGTAACAAGGTTTCCGTAGGTGAACCTGCGGAAGGATCATTGTTGAGACCGCAA...TGA', SingleLetterAlphabet())\n727\ngi|2765630|emb|Z78505.1|PSZ78505\nSeq('CGTAACAAGGTTTCCGTAGGTGAACCTGCGGAAGGATCATTGTTGAGACCGCCA...TTT', SingleLetterAlphabet())\n711\ngi|2765629|emb|Z78504.1|PKZ78504\nSeq('CGTAACAAGGTTTCCGTAGGTGAACCTTCGGAAGGATCATTGTTGAGACCGCAA...TAA', SingleLetterAlphabet())\n743\ngi|2765628|emb|Z78503.1|PCZ78503\nSeq('CGTAACCAGGTTTCCGTAGGTGAACCTCCGGAAGGATCCTTGTTGAGACCGCCA...TAA', SingleLetterAlphabet())\n727\ngi|2765627|emb|Z78502.1|PBZ78502\nSeq('CGTAACCAGGTTTCCGTAGGTGAACCTCCGGAAGGATCATTGTTGAGACCGCCA...CGC', SingleLetterAlphabet())\n757\ngi|2765626|emb|Z78501.1|PCZ78501\nSeq('CGTAACAAGGTTTCCGTAGGTGAACCTGCGGAAGGATCATTGTTGAGACCGCAA...AGA', SingleLetterAlphabet())\n770\ngi|2765625|emb|Z78500.1|PWZ78500\nSeq('CGTAACAAGGTTTCCGTAGGTGAACCTGCGGAAGGCTCATTGTTGAGACCGCAA...AAG', SingleLetterAlphabet())\n767\ngi|2765624|emb|Z78499.1|PMZ78499\nSeq('CGTAACAAGGTTTCCGTAGGTGAACCTGCGGAGGGATCATTGTTGAGATCGCAT...ACC', SingleLetterAlphabet())\n759\ngi|2765623|emb|Z78498.1|PMZ78498\nSeq('CGTAACAAGGTTTCCGTAGGTGAACCTGCGGAAAGGTCATTGTTGAGATCACAT...AGC', SingleLetterAlphabet())\n750\ngi|2765622|emb|Z78497.1|PDZ78497\nSeq('CGTAACAAGGTTTCCGTAGGTGAACCTGCGGAAGGATCATTGTTGAGATCACAT...AGC', SingleLetterAlphabet())\n788\ngi|2765621|emb|Z78496.1|PAZ78496\nSeq('CGTAACAAGGTTTCCGTAGGTGAACCTGCGGAAGGATCATTGTTGAGATCGCAT...AGC', SingleLetterAlphabet())\n774\ngi|2765620|emb|Z78495.1|PEZ78495\nSeq('CGTAACAAGGTTTCCGTAGGTGAACCTCCGGAAGGATCATTGTTGAGATCACAT...GTG', SingleLetterAlphabet())\n789\ngi|2765619|emb|Z78494.1|PNZ78494\nSeq('CGTAACAAGGTTTCCGTAGGTGAACCTGCGGAAGGATCATTGTTGAGGTCGCAT...AAG', SingleLetterAlphabet())\n688\ngi|2765618|emb|Z78493.1|PGZ78493\nSeq('CGTAACAAGGATTCCGTAGGTGAACCTGCGGAAGGATCATTGTTGAGATCGCAT...CCC', SingleLetterAlphabet())\n719\ngi|2765617|emb|Z78492.1|PBZ78492\nSeq('CGTAACAAGGTTTCCGTAGGTGAACCTGCGGAAGGATCATTGTTGAGATCGCAT...ATA', SingleLetterAlphabet())\n743\ngi|2765616|emb|Z78491.1|PCZ78491\nSeq('CGTAACAAGGTTTCCGTAGGTGAACCTGCGGAAGGATCATTGTTGAGATCGCAT...AGC', SingleLetterAlphabet())\n737\ngi|2765615|emb|Z78490.1|PFZ78490\nSeq('CGTAACAAGGTTTCCGTAGGTGAACCTGCGGAAGGATCATTGTTGAGATCACAT...TGA', SingleLetterAlphabet())\n728\ngi|2765614|emb|Z78489.1|PDZ78489\nSeq('CGTAACAAGGTTTCCGTAGGTGAACCTGCGGAAGGATCATTGTTGAGATCACAT...GGC', SingleLetterAlphabet())\n740\ngi|2765613|emb|Z78488.1|PTZ78488\nSeq('CTGTAGGTGAACCTGCGGAAGGATCATTGTTGAGATCACGCAATAATTGATCGA...GCT', SingleLetterAlphabet())\n696\ngi|2765612|emb|Z78487.1|PHZ78487\nSeq('CGTAACAAGGTTTCCGTAGGTGAACCTGCGGAAGGATCATTGTTGAGATCACAT...TAA', SingleLetterAlphabet())\n732\ngi|2765611|emb|Z78486.1|PBZ78486\nSeq('CGTCACGAGGTTTCCGTAGGTGAATCTGCGGGAGGATCATTGTTGAGATCACAT...TGA', SingleLetterAlphabet())\n731\ngi|2765610|emb|Z78485.1|PHZ78485\nSeq('CTGAACCTGGTGTCCGAAGGTGAATCTGCGGATGGATCATTGTTGAGATATCAT...GTA', SingleLetterAlphabet())\n735\ngi|2765609|emb|Z78484.1|PCZ78484\nSeq('CGTAACAAGGTTTCCGTAGGTGAACCTGGGGAAGGATCATTGTTGAGATCACAT...TTT', SingleLetterAlphabet())\n720\ngi|2765608|emb|Z78483.1|PVZ78483\nSeq('CGTAACAAGGTTTCCGTAGGTGAACCTGCGGAAGGATCATTGTTGAGATCACAT...GCA', SingleLetterAlphabet())\n740\ngi|2765607|emb|Z78482.1|PEZ78482\nSeq('TCTACTGCAGTGACCGAGATTTGCCATCGAGCCTCCTGGGAGCTTTCTTGCTGG...GCA', SingleLetterAlphabet())\n629\ngi|2765606|emb|Z78481.1|PIZ78481\nSeq('CGTAACAAGGTTTCCGTAGGTGAACCTGCGGAAGGATCATTGTTGAGATCACAT...TGA', SingleLetterAlphabet())\n572\ngi|2765605|emb|Z78480.1|PGZ78480\nSeq('CGTAACAAGGTTTCCGTAGGTGAACCTGCGGAAGGATCATTGTTGAGATCACAT...TGA', SingleLetterAlphabet())\n587\ngi|2765604|emb|Z78479.1|PPZ78479\nSeq('CGTAACAAGGTTTCCGTAGGTGAACCTGCGGAAGGATCATTGTTGAGATCACAT...AGT', SingleLetterAlphabet())\n700\ngi|2765603|emb|Z78478.1|PVZ78478\nSeq('CGTAACAAGGTTTCCGTAGGTGAACCTCCGGAAGGATCAGTGTTGAGATCACAT...GGC', SingleLetterAlphabet())\n636\ngi|2765602|emb|Z78477.1|PVZ78477\nSeq('CGTAACAAGGTTTCCGTAGGTGAACCTGCGGAAGGATCATTGTTGAGATCACAT...TGC', SingleLetterAlphabet())\n716\ngi|2765601|emb|Z78476.1|PGZ78476\nSeq('CGTAACAAGGTTTCCGTAGGTGAACCTGCGGAAGGATCATTGTTGAGATCACAT...CCC', SingleLetterAlphabet())\n592\ngi|2765600|emb|Z78475.1|PSZ78475\nSeq('CGTAACAAGGTTTCCGTAGGTGAACCTGCGGAAGGATCATTGTTGAGATCACAT...GGT', SingleLetterAlphabet())\n716\ngi|2765599|emb|Z78474.1|PKZ78474\nSeq('CGTAACAAGGTTTCCGTAGGTGAACCTGCGGAAGGATCATTGTTGAGATCACGT...CTT', SingleLetterAlphabet())\n733\ngi|2765598|emb|Z78473.1|PSZ78473\nSeq('CGTAACAAGGTTTCCGTAGGTGAACCTGCGGAAGGATCATTGTTGAGATCACAT...AGG', SingleLetterAlphabet())\n626\ngi|2765597|emb|Z78472.1|PLZ78472\nSeq('CGTAACAAGGTTTCCGTAGGTGAACCTGCGGAAGGATCATTGTTGAGATCACAT...AGC', SingleLetterAlphabet())\n737\ngi|2765596|emb|Z78471.1|PDZ78471\nSeq('CGTAACAAGGTTTCCGTAGGTGAACCTGCGGAAGGATCATTGTTGAGATCACAT...AGC', SingleLetterAlphabet())\n740\ngi|2765595|emb|Z78470.1|PPZ78470\nSeq('CGTAACAAGGTTTCCGTAGGTGAACCTGCGGAAGGATCATTGTTGAGATCACAT...GTT', SingleLetterAlphabet())\n574\ngi|2765594|emb|Z78469.1|PHZ78469\nSeq('CGTAACAAGGTTTCCGTAGGTGAACCTGCGGAAGGATCATTGTTGAGATCACAT...GTT', SingleLetterAlphabet())\n594\ngi|2765593|emb|Z78468.1|PAZ78468\nSeq('CGTAACAAGGTTTCCGTAGGTGAACCTGCGGAAGGATCATTGTTGAGATCGCAT...GTT', SingleLetterAlphabet())\n610\ngi|2765592|emb|Z78467.1|PSZ78467\nSeq('CGTAACAAGGTTTCCGTAGGTGAACCTGCGGAAGGATCATTGTTGAGATCACAT...TGA', SingleLetterAlphabet())\n730\ngi|2765591|emb|Z78466.1|PPZ78466\nSeq('CGTAACAAGGTTTCCGTAGGTGAACCTGCGGAAGGATCATTGTTGAGATCACAT...CCC', SingleLetterAlphabet())\n641\ngi|2765590|emb|Z78465.1|PRZ78465\nSeq('CGTAACAAGGTTTCCGTAGGTGAACCTGCGGAAGGATCATTGTTGAGATCACAT...TGC', SingleLetterAlphabet())\n702\ngi|2765589|emb|Z78464.1|PGZ78464\nSeq('CGTAACAAGGTTTCCGTAGGTGAGCGGAAGGGTCATTGTTGAGATCACATAATA...AGC', SingleLetterAlphabet())\n733\ngi|2765588|emb|Z78463.1|PGZ78463\nSeq('CGTAACAAGGTTTCCGTAGGTGAACCTGCGGAAGGTTCATTGTTGAGATCACAT...AGC', SingleLetterAlphabet())\n738\ngi|2765587|emb|Z78462.1|PSZ78462\nSeq('CGTCACGAGGTCTCCGGATGTGACCCTGCGGAAGGATCATTGTTGAGATCACAT...CAT', SingleLetterAlphabet())\n736\ngi|2765586|emb|Z78461.1|PWZ78461\nSeq('CGTAACAAGGTTTCCGTAGGTGAACCTCCGGAAGGATCATTGTTGAGATCACAT...TAA', SingleLetterAlphabet())\n732\ngi|2765585|emb|Z78460.1|PCZ78460\nSeq('CGTAACAAGGTTTCCGTAGGTGAACCTCCGGAAGGATCATTGTTGAGATCACAT...TTA', SingleLetterAlphabet())\n745\ngi|2765584|emb|Z78459.1|PDZ78459\nSeq('CGTAACAAGGTTTCCGTAGGTGAACCTGCGGAAGGATCATTGTTGAGATCACAT...TTT', SingleLetterAlphabet())\n744\ngi|2765583|emb|Z78458.1|PHZ78458\nSeq('CGTAACAAGGTTTCCGTAGGTGAACCTGCGGAAGGATCATTGTTGAGATCACAT...TTG', SingleLetterAlphabet())\n738\ngi|2765582|emb|Z78457.1|PCZ78457\nSeq('CGTAACAAGGTTTCCGTAGGTGAACCTCCGGAAGGATCATTGTTGAGATCACAT...GAG', SingleLetterAlphabet())\n739\ngi|2765581|emb|Z78456.1|PTZ78456\nSeq('CGTAACAAGGTTTCCGTAGGTGAACCTGCGGAAGGATCATTGTTGAGATCACAT...AGC', SingleLetterAlphabet())\n740\ngi|2765580|emb|Z78455.1|PJZ78455\nSeq('CGTAACCAGGTTTCCGTAGGTGGACCTTCGGGAGGATCATTTTTGAGATCACAT...GCA', SingleLetterAlphabet())\n745\ngi|2765579|emb|Z78454.1|PFZ78454\nSeq('CGTAACAAGGTTTCCGTAGGTGAACCTGCGGAAGGATCATTGTTGAGATCACAT...AAC', SingleLetterAlphabet())\n695\ngi|2765578|emb|Z78453.1|PSZ78453\nSeq('CGTAACAAGGTTTCCGTAGGTGAACCTGCGGAAGGATCATTGTTGAGATCACAT...GCA', SingleLetterAlphabet())\n745\ngi|2765577|emb|Z78452.1|PBZ78452\nSeq('CGTAACAAGGTTTCCGTAGGTGAACCTGCGGAAGGATCATTGTTGAGATCACAT...GCA', SingleLetterAlphabet())\n743\ngi|2765576|emb|Z78451.1|PHZ78451\nSeq('CGTAACAAGGTTTCCGTAGGTGTACCTCCGGAAGGATCATTGTTGAGATCACAT...AGC', SingleLetterAlphabet())\n730\ngi|2765575|emb|Z78450.1|PPZ78450\nSeq('GGAAGGATCATTGCTGATATCACATAATAATTGATCGAGTTAAGCTGGAGGATC...GAG', SingleLetterAlphabet())\n706\ngi|2765574|emb|Z78449.1|PMZ78449\nSeq('CGTAACAAGGTTTCCGTAGGTGAACCTGCGGAAGGATCATTGTTGAGATCACAT...TGC', SingleLetterAlphabet())\n744\ngi|2765573|emb|Z78448.1|PAZ78448\nSeq('CGTAACAAGGTTTCCGTAGGTGAACCTGCGGAAGGATCATTGTTGAGATCACAT...AGG', SingleLetterAlphabet())\n742\ngi|2765572|emb|Z78447.1|PVZ78447\nSeq('CGTAACAAGGATTCCGTAGGTGAACCTGCGGGAGGATCATTGTTGAGATCACAT...AGC', SingleLetterAlphabet())\n694\ngi|2765571|emb|Z78446.1|PAZ78446\nSeq('CGTAACAAGGTTTCCGTAGGTGAACCTCCGGAAGGATCATTGTTGAGATCACAT...CCC', SingleLetterAlphabet())\n712\ngi|2765570|emb|Z78445.1|PUZ78445\nSeq('CGTAACAAGGTTTCCGTAGGTGAACCTGCGGAAGGATCATTGTTGAGATCACAT...TGT', SingleLetterAlphabet())\n715\ngi|2765569|emb|Z78444.1|PAZ78444\nSeq('CGTAACAAGGTTTCCGTAGGGTGAACTGCGGAAGGATCATTGTTGAGATCACAT...ATT', SingleLetterAlphabet())\n688\ngi|2765568|emb|Z78443.1|PLZ78443\nSeq('CGTAACAAGGTTTCCGTAGGTGAACCTGCGGAAGGATCATTGTTGAGATCACAT...AGG', SingleLetterAlphabet())\n784\ngi|2765567|emb|Z78442.1|PBZ78442\nSeq('GTAGGTGAACCTGCGGAAGGATCATTGTTGAGATCACATAATAATTGATCGAGT...AGT', SingleLetterAlphabet())\n721\ngi|2765566|emb|Z78441.1|PSZ78441\nSeq('GGAAGGTCATTGCCGATATCACATAATAATTGATCGAGTTAATCTGGAGGATCT...GAG', SingleLetterAlphabet())\n703\ngi|2765565|emb|Z78440.1|PPZ78440\nSeq('CGTAACAAGGTTTCCGTAGGTGGACCTCCGGGAGGATCATTGTTGAGATCACAT...GCA', SingleLetterAlphabet())\n744\ngi|2765564|emb|Z78439.1|PBZ78439\nSeq('CATTGTTGAGATCACATAATAATTGATCGAGTTAATCTGGAGGATCTGTTTACT...GCC', SingleLetterAlphabet())\n592\n"
    }
   ],
   "source": [
    "from Bio import SeqIO\n",
    "from pathlib import Path\n",
    "\n",
    "data_path = \"data/examples/ls_orchid.fasta\"\n",
    "for seq_record in SeqIO.parse(data_path, \"fasta\"):\n",
    "    print(seq_record.id)\n",
    "    print(repr(seq_record.seq))\n",
    "    print(len(seq_record))"
   ]
  },
  {
   "cell_type": "code",
   "execution_count": 18,
   "metadata": {
    "tags": [
     "outputPrepend"
    ]
   },
   "outputs": [
    {
     "output_type": "stream",
     "name": "stdout",
     "text": "Z78533.1\nSeq('CGTAACAAGGTTTCCGTAGGTGAACCTGCGGAAGGATCATTGATGAGACCGTGG...CGC', IUPACAmbiguousDNA())\n740\nZ78532.1\nSeq('CGTAACAAGGTTTCCGTAGGTGAACCTGCGGAAGGATCATTGTTGAGACAACAG...GGC', IUPACAmbiguousDNA())\n753\nZ78531.1\nSeq('CGTAACAAGGTTTCCGTAGGTGAACCTGCGGAAGGATCATTGTTGAGACAGCAG...TAA', IUPACAmbiguousDNA())\n748\nZ78530.1\nSeq('CGTAACAAGGTTTCCGTAGGTGAACCTGCGGAAGGATCATTGTTGAAACAACAT...CAT', IUPACAmbiguousDNA())\n744\nZ78529.1\nSeq('ACGGCGAGCTGCCGAAGGACATTGTTGAGACAGCAGAATATACGATTGAGTGAA...AAA', IUPACAmbiguousDNA())\n733\nZ78527.1\nSeq('CGTAACAAGGTTTCCGTAGGTGAACCTGCGGAAGGATCATTGTTGAGACAGTAG...CCC', IUPACAmbiguousDNA())\n718\nZ78526.1\nSeq('CGTAACAAGGTTTCCGTAGGTGAACCTGCGGAAGGATCATTGTTGAGACAGTAG...TGT', IUPACAmbiguousDNA())\n730\nZ78525.1\nSeq('TGTTGAGATAGCAGAATATACATCGAGTGAATCCGGAGGACCTGTGGTTATTCG...GCA', IUPACAmbiguousDNA())\n704\nZ78524.1\nSeq('CGTAACAAGGTTTCCGTAGGTGAACCTGCGGAAGGATCATTGTTGAGATAGTAG...AGC', IUPACAmbiguousDNA())\n740\nZ78523.1\nSeq('CGTAACCAGGTTTCCGTAGGTGAACCTGCGGCAGGATCATTGTTGAGACAGCAG...AAG', IUPACAmbiguousDNA())\n709\nZ78522.1\nSeq('CGTAACAAGGTTTCCGTAGGTGAACCTGCGGAAGGATCATTGTTGAGACAGCAG...GAG', IUPACAmbiguousDNA())\n700\nZ78521.1\nSeq('GTAGGTGAACCTGCGGAAGGATCATTGTTGAGACAGTAGAATATATGATCGAGT...ACC', IUPACAmbiguousDNA())\n726\nZ78520.1\nSeq('CGTAACAAGGTTTCCGTAGGTGAACCTGCGGAAGGATCATTGTTGAGACAGCAG...TTT', IUPACAmbiguousDNA())\n753\nZ78519.1\nSeq('ATATGATCGAGTGAATCTGGTGGACTTGTGGTTACTCAGCTCGCCATAGGCTTT...TTA', IUPACAmbiguousDNA())\n699\nZ78518.1\nSeq('CGTAACAAGGTTTCCGTAGGTGAACCTGCGGGAGGATCATTGTTGAGATAGTAG...TCC', IUPACAmbiguousDNA())\n658\nZ78517.1\nSeq('CGTAACAAGGTTTCCGTAGGTGAACCTGCGGAAGGATCATTGTTGAGACAGTAG...AGC', IUPACAmbiguousDNA())\n752\nZ78516.1\nSeq('CGTAACAAGGTTTCCGTAGGTGAACCTGCGGAAGGATCATTGTTGAGACAGTAT...TAA', IUPACAmbiguousDNA())\n726\nZ78515.1\nSeq('CGTAACAAGGTTTCCGTAGGTGAACCTGCGGAAGGATCATTGCTGAGACCGTAG...AGC', IUPACAmbiguousDNA())\n765\nZ78514.1\nSeq('CGTAACAAGGTTTCCGTAGGTGGACCTTCGGGAGGATCATTTTTGAAGCCCCCA...CTA', IUPACAmbiguousDNA())\n755\nZ78513.1\nSeq('CGTAACAAGGTTTCCGTAGGTGAACCTGCGGAAGGATCATTGTTGAGACCGCCA...GAG', IUPACAmbiguousDNA())\n742\nZ78512.1\nSeq('CGTAACAAGGTTTCCGTAGGTGGACCTTCGGGAGGATCATTTTTGAAGCCCCCA...AGC', IUPACAmbiguousDNA())\n762\nZ78511.1\nSeq('CGTAACAAGGTTTCCGTAGGTGAACCTTCGGAAGGATCATTGTTGAGACCCCCA...GGA', IUPACAmbiguousDNA())\n745\nZ78510.1\nSeq('CTAACCAGGGTTCCGAGGTGACCTTCGGGAGGATTCCTTTTTAAGCCCCCGAAA...TTA', IUPACAmbiguousDNA())\n750\nZ78509.1\nSeq('CGTAACAAGGTTTCCGTAGGTGAACCTGCGGAAGGATCATTGTTGAGACCGCCA...GGA', IUPACAmbiguousDNA())\n731\nZ78508.1\nSeq('CGTAACAAGGTTTCCGTAGGTGAACCTGCGGAAGGATCATTGTTGAGACCGCCA...TGA', IUPACAmbiguousDNA())\n741\nZ78507.1\nSeq('CGTAACAAGGTTTCCGTAGGTGAACCTGCGGAAGGATCATTGTTGAGACCCCCA...TGA', IUPACAmbiguousDNA())\n740\nZ78506.1\nSeq('CGTAACAAGGTTTCCGTAGGTGAACCTGCGGAAGGATCATTGTTGAGACCGCAA...TGA', IUPACAmbiguousDNA())\n727\nZ78505.1\nSeq('CGTAACAAGGTTTCCGTAGGTGAACCTGCGGAAGGATCATTGTTGAGACCGCCA...TTT', IUPACAmbiguousDNA())\n711\nZ78504.1\nSeq('CGTAACAAGGTTTCCGTAGGTGAACCTTCGGAAGGATCATTGTTGAGACCGCAA...TAA', IUPACAmbiguousDNA())\n743\nZ78503.1\nSeq('CGTAACCAGGTTTCCGTAGGTGAACCTCCGGAAGGATCCTTGTTGAGACCGCCA...TAA', IUPACAmbiguousDNA())\n727\nZ78502.1\nSeq('CGTAACCAGGTTTCCGTAGGTGAACCTCCGGAAGGATCATTGTTGAGACCGCCA...CGC', IUPACAmbiguousDNA())\n757\nZ78501.1\nSeq('CGTAACAAGGTTTCCGTAGGTGAACCTGCGGAAGGATCATTGTTGAGACCGCAA...AGA', IUPACAmbiguousDNA())\n770\nZ78500.1\nSeq('CGTAACAAGGTTTCCGTAGGTGAACCTGCGGAAGGCTCATTGTTGAGACCGCAA...AAG', IUPACAmbiguousDNA())\n767\nZ78499.1\nSeq('CGTAACAAGGTTTCCGTAGGTGAACCTGCGGAGGGATCATTGTTGAGATCGCAT...ACC', IUPACAmbiguousDNA())\n759\nZ78498.1\nSeq('CGTAACAAGGTTTCCGTAGGTGAACCTGCGGAAAGGTCATTGTTGAGATCACAT...AGC', IUPACAmbiguousDNA())\n750\nZ78497.1\nSeq('CGTAACAAGGTTTCCGTAGGTGAACCTGCGGAAGGATCATTGTTGAGATCACAT...AGC', IUPACAmbiguousDNA())\n788\nZ78496.1\nSeq('CGTAACAAGGTTTCCGTAGGTGAACCTGCGGAAGGATCATTGTTGAGATCGCAT...AGC', IUPACAmbiguousDNA())\n774\nZ78495.1\nSeq('CGTAACAAGGTTTCCGTAGGTGAACCTCCGGAAGGATCATTGTTGAGATCACAT...GTG', IUPACAmbiguousDNA())\n789\nZ78494.1\nSeq('CGTAACAAGGTTTCCGTAGGTGAACCTGCGGAAGGATCATTGTTGAGGTCGCAT...AAG', IUPACAmbiguousDNA())\n688\nZ78493.1\nSeq('CGTAACAAGGATTCCGTAGGTGAACCTGCGGAAGGATCATTGTTGAGATCGCAT...CCC', IUPACAmbiguousDNA())\n719\nZ78492.1\nSeq('CGTAACAAGGTTTCCGTAGGTGAACCTGCGGAAGGATCATTGTTGAGATCGCAT...ATA', IUPACAmbiguousDNA())\n743\nZ78491.1\nSeq('CGTAACAAGGTTTCCGTAGGTGAACCTGCGGAAGGATCATTGTTGAGATCGCAT...AGC', IUPACAmbiguousDNA())\n737\nZ78490.1\nSeq('CGTAACAAGGTTTCCGTAGGTGAACCTGCGGAAGGATCATTGTTGAGATCACAT...TGA', IUPACAmbiguousDNA())\n728\nZ78489.1\nSeq('CGTAACAAGGTTTCCGTAGGTGAACCTGCGGAAGGATCATTGTTGAGATCACAT...GGC', IUPACAmbiguousDNA())\n740\nZ78488.1\nSeq('CTGTAGGTGAACCTGCGGAAGGATCATTGTTGAGATCACGCAATAATTGATCGA...GCT', IUPACAmbiguousDNA())\n696\nZ78487.1\nSeq('CGTAACAAGGTTTCCGTAGGTGAACCTGCGGAAGGATCATTGTTGAGATCACAT...TAA', IUPACAmbiguousDNA())\n732\nZ78486.1\nSeq('CGTCACGAGGTTTCCGTAGGTGAATCTGCGGGAGGATCATTGTTGAGATCACAT...TGA', IUPACAmbiguousDNA())\n731\nZ78485.1\nSeq('CTGAACCTGGTGTCCGAAGGTGAATCTGCGGATGGATCATTGTTGAGATATCAT...GTA', IUPACAmbiguousDNA())\n735\nZ78484.1\nSeq('CGTAACAAGGTTTCCGTAGGTGAACCTGGGGAAGGATCATTGTTGAGATCACAT...TTT', IUPACAmbiguousDNA())\n720\nZ78483.1\nSeq('CGTAACAAGGTTTCCGTAGGTGAACCTGCGGAAGGATCATTGTTGAGATCACAT...GCA', IUPACAmbiguousDNA())\n740\nZ78482.1\nSeq('TCTACTGCAGTGACCGAGATTTGCCATCGAGCCTCCTGGGAGCTTTCTTGCTGG...GCA', IUPACAmbiguousDNA())\n629\nZ78481.1\nSeq('CGTAACAAGGTTTCCGTAGGTGAACCTGCGGAAGGATCATTGTTGAGATCACAT...TGA', IUPACAmbiguousDNA())\n572\nZ78480.1\nSeq('CGTAACAAGGTTTCCGTAGGTGAACCTGCGGAAGGATCATTGTTGAGATCACAT...TGA', IUPACAmbiguousDNA())\n587\nZ78479.1\nSeq('CGTAACAAGGTTTCCGTAGGTGAACCTGCGGAAGGATCATTGTTGAGATCACAT...AGT', IUPACAmbiguousDNA())\n700\nZ78478.1\nSeq('CGTAACAAGGTTTCCGTAGGTGAACCTCCGGAAGGATCAGTGTTGAGATCACAT...GGC', IUPACAmbiguousDNA())\n636\nZ78477.1\nSeq('CGTAACAAGGTTTCCGTAGGTGAACCTGCGGAAGGATCATTGTTGAGATCACAT...TGC', IUPACAmbiguousDNA())\n716\nZ78476.1\nSeq('CGTAACAAGGTTTCCGTAGGTGAACCTGCGGAAGGATCATTGTTGAGATCACAT...CCC', IUPACAmbiguousDNA())\n592\nZ78475.1\nSeq('CGTAACAAGGTTTCCGTAGGTGAACCTGCGGAAGGATCATTGTTGAGATCACAT...GGT', IUPACAmbiguousDNA())\n716\nZ78474.1\nSeq('CGTAACAAGGTTTCCGTAGGTGAACCTGCGGAAGGATCATTGTTGAGATCACGT...CTT', IUPACAmbiguousDNA())\n733\nZ78473.1\nSeq('CGTAACAAGGTTTCCGTAGGTGAACCTGCGGAAGGATCATTGTTGAGATCACAT...AGG', IUPACAmbiguousDNA())\n626\nZ78472.1\nSeq('CGTAACAAGGTTTCCGTAGGTGAACCTGCGGAAGGATCATTGTTGAGATCACAT...AGC', IUPACAmbiguousDNA())\n737\nZ78471.1\nSeq('CGTAACAAGGTTTCCGTAGGTGAACCTGCGGAAGGATCATTGTTGAGATCACAT...AGC', IUPACAmbiguousDNA())\n740\nZ78470.1\nSeq('CGTAACAAGGTTTCCGTAGGTGAACCTGCGGAAGGATCATTGTTGAGATCACAT...GTT', IUPACAmbiguousDNA())\n574\nZ78469.1\nSeq('CGTAACAAGGTTTCCGTAGGTGAACCTGCGGAAGGATCATTGTTGAGATCACAT...GTT', IUPACAmbiguousDNA())\n594\nZ78468.1\nSeq('CGTAACAAGGTTTCCGTAGGTGAACCTGCGGAAGGATCATTGTTGAGATCGCAT...GTT', IUPACAmbiguousDNA())\n610\nZ78467.1\nSeq('CGTAACAAGGTTTCCGTAGGTGAACCTGCGGAAGGATCATTGTTGAGATCACAT...TGA', IUPACAmbiguousDNA())\n730\nZ78466.1\nSeq('CGTAACAAGGTTTCCGTAGGTGAACCTGCGGAAGGATCATTGTTGAGATCACAT...CCC', IUPACAmbiguousDNA())\n641\nZ78465.1\nSeq('CGTAACAAGGTTTCCGTAGGTGAACCTGCGGAAGGATCATTGTTGAGATCACAT...TGC', IUPACAmbiguousDNA())\n702\nZ78464.1\nSeq('CGTAACAAGGTTTCCGTAGGTGAGCGGAAGGGTCATTGTTGAGATCACATAATA...AGC', IUPACAmbiguousDNA())\n733\nZ78463.1\nSeq('CGTAACAAGGTTTCCGTAGGTGAACCTGCGGAAGGTTCATTGTTGAGATCACAT...AGC', IUPACAmbiguousDNA())\n738\nZ78462.1\nSeq('CGTCACGAGGTCTCCGGATGTGACCCTGCGGAAGGATCATTGTTGAGATCACAT...CAT', IUPACAmbiguousDNA())\n736\nZ78461.1\nSeq('CGTAACAAGGTTTCCGTAGGTGAACCTCCGGAAGGATCATTGTTGAGATCACAT...TAA', IUPACAmbiguousDNA())\n732\nZ78460.1\nSeq('CGTAACAAGGTTTCCGTAGGTGAACCTCCGGAAGGATCATTGTTGAGATCACAT...TTA', IUPACAmbiguousDNA())\n745\nZ78459.1\nSeq('CGTAACAAGGTTTCCGTAGGTGAACCTGCGGAAGGATCATTGTTGAGATCACAT...TTT', IUPACAmbiguousDNA())\n744\nZ78458.1\nSeq('CGTAACAAGGTTTCCGTAGGTGAACCTGCGGAAGGATCATTGTTGAGATCACAT...TTG', IUPACAmbiguousDNA())\n738\nZ78457.1\nSeq('CGTAACAAGGTTTCCGTAGGTGAACCTCCGGAAGGATCATTGTTGAGATCACAT...GAG', IUPACAmbiguousDNA())\n739\nZ78456.1\nSeq('CGTAACAAGGTTTCCGTAGGTGAACCTGCGGAAGGATCATTGTTGAGATCACAT...AGC', IUPACAmbiguousDNA())\n740\nZ78455.1\nSeq('CGTAACCAGGTTTCCGTAGGTGGACCTTCGGGAGGATCATTTTTGAGATCACAT...GCA', IUPACAmbiguousDNA())\n745\nZ78454.1\nSeq('CGTAACAAGGTTTCCGTAGGTGAACCTGCGGAAGGATCATTGTTGAGATCACAT...AAC', IUPACAmbiguousDNA())\n695\nZ78453.1\nSeq('CGTAACAAGGTTTCCGTAGGTGAACCTGCGGAAGGATCATTGTTGAGATCACAT...GCA', IUPACAmbiguousDNA())\n745\nZ78452.1\nSeq('CGTAACAAGGTTTCCGTAGGTGAACCTGCGGAAGGATCATTGTTGAGATCACAT...GCA', IUPACAmbiguousDNA())\n743\nZ78451.1\nSeq('CGTAACAAGGTTTCCGTAGGTGTACCTCCGGAAGGATCATTGTTGAGATCACAT...AGC', IUPACAmbiguousDNA())\n730\nZ78450.1\nSeq('GGAAGGATCATTGCTGATATCACATAATAATTGATCGAGTTAAGCTGGAGGATC...GAG', IUPACAmbiguousDNA())\n706\nZ78449.1\nSeq('CGTAACAAGGTTTCCGTAGGTGAACCTGCGGAAGGATCATTGTTGAGATCACAT...TGC', IUPACAmbiguousDNA())\n744\nZ78448.1\nSeq('CGTAACAAGGTTTCCGTAGGTGAACCTGCGGAAGGATCATTGTTGAGATCACAT...AGG', IUPACAmbiguousDNA())\n742\nZ78447.1\nSeq('CGTAACAAGGATTCCGTAGGTGAACCTGCGGGAGGATCATTGTTGAGATCACAT...AGC', IUPACAmbiguousDNA())\n694\nZ78446.1\nSeq('CGTAACAAGGTTTCCGTAGGTGAACCTCCGGAAGGATCATTGTTGAGATCACAT...CCC', IUPACAmbiguousDNA())\n712\nZ78445.1\nSeq('CGTAACAAGGTTTCCGTAGGTGAACCTGCGGAAGGATCATTGTTGAGATCACAT...TGT', IUPACAmbiguousDNA())\n715\nZ78444.1\nSeq('CGTAACAAGGTTTCCGTAGGGTGAACTGCGGAAGGATCATTGTTGAGATCACAT...ATT', IUPACAmbiguousDNA())\n688\nZ78443.1\nSeq('CGTAACAAGGTTTCCGTAGGTGAACCTGCGGAAGGATCATTGTTGAGATCACAT...AGG', IUPACAmbiguousDNA())\n784\nZ78442.1\nSeq('GTAGGTGAACCTGCGGAAGGATCATTGTTGAGATCACATAATAATTGATCGAGT...AGT', IUPACAmbiguousDNA())\n721\nZ78441.1\nSeq('GGAAGGTCATTGCCGATATCACATAATAATTGATCGAGTTAATCTGGAGGATCT...GAG', IUPACAmbiguousDNA())\n703\nZ78440.1\nSeq('CGTAACAAGGTTTCCGTAGGTGGACCTCCGGGAGGATCATTGTTGAGATCACAT...GCA', IUPACAmbiguousDNA())\n744\nZ78439.1\nSeq('CATTGTTGAGATCACATAATAATTGATCGAGTTAATCTGGAGGATCTGTTTACT...GCC', IUPACAmbiguousDNA())\n592\n"
    }
   ],
   "source": [
    "from Bio import SeqIO\n",
    "from pathlib import Path\n",
    "\n",
    "data_path = \"data/examples/ls_orchid.gbk\"\n",
    "for seq_record in SeqIO.parse(data_path, \"genbank\"):\n",
    "    print(seq_record.id)\n",
    "    print(repr(seq_record.seq))\n",
    "    print(len(seq_record))"
   ]
  },
  {
   "cell_type": "code",
   "execution_count": 22,
   "metadata": {},
   "outputs": [
    {
     "output_type": "stream",
     "name": "stdout",
     "text": "IUPACUnambiguousDNA()\nIUPACProtein()\n"
    }
   ],
   "source": [
    "from Bio.Seq import Seq\n",
    "from Bio.Alphabet import IUPAC\n",
    "\n",
    "my_seq = Seq(\"AGTACACTGGTG\", IUPAC.unambiguous_dna)\n",
    "print(my_seq.alphabet)\n",
    "\n",
    "my_seq = Seq(\"AGTACACTGGTG\", IUPAC.protein)\n",
    "print(my_seq.alphabet)"
   ]
  },
  {
   "cell_type": "code",
   "execution_count": 24,
   "metadata": {},
   "outputs": [
    {
     "output_type": "stream",
     "name": "stdout",
     "text": "0 G\n1 A\n2 T\n3 C\n4 G\n5\n"
    }
   ],
   "source": [
    "from Bio.Seq import Seq\n",
    "from Bio.Alphabet import IUPAC\n",
    "my_seq = Seq(\"GATCG\", IUPAC.unambiguous_dna)\n",
    "for index, letter in enumerate(my_seq):\n",
    "    print(\"{} {}\".format(index, letter))\n",
    "\n",
    "print(len(my_seq))"
   ]
  },
  {
   "cell_type": "code",
   "execution_count": 34,
   "metadata": {},
   "outputs": [
    {
     "output_type": "stream",
     "name": "stdout",
     "text": "2.8\ncoronavirus, sars-cov-2, sars-cov, spike glycoprotein, fusion protein, structural genomics, seattle structural genomics center for infectious disease, ssgcid, viral protein\n"
    }
   ],
   "source": [
    "from Bio.PDB.PDBParser import PDBParser\n",
    "from pathlib import Path\n",
    "\n",
    "parser = PDBParser(PERMISSIVE=1)\n",
    "\n",
    "structure_id = \"pepsurf\"\n",
    "filename = Path(\"data/6vxx_pepsurf_1592103509_pipe.pdb\")\n",
    "\n",
    "structure = parser.get_structure(structure_id, filename)\n",
    "\n",
    "resolution = structure.header[\"resolution\"]\n",
    "print(resolution)\n",
    "\n",
    "keywords = structure.header[\"keywords\"]\n",
    "print(keywords)\n",
    "\n",
    "# name, head, deposition_date, release_date, structure_method, resolution, structure_reference, journal_reference, author, compound, has_missing_residues, missing_residues, astral"
   ]
  },
  {
   "cell_type": "code",
   "execution_count": 38,
   "metadata": {},
   "outputs": [
    {
     "output_type": "stream",
     "name": "stdout",
     "text": "[<Chain id=A>, <Chain id=B>, <Chain id=C>]\n"
    }
   ],
   "source": [
    "print([chain for chain in structure.get_chains()])"
   ]
  },
  {
   "cell_type": "code",
   "execution_count": 40,
   "metadata": {},
   "outputs": [
    {
     "output_type": "stream",
     "name": "stderr",
     "text": "WARNING: The default download format has changed from PDB to PDBx/mmCif\nDownloading PDB structure '1FAT'...\nWARNING: The default download format has changed from PDB to PDBx/mmCif\nDownloading PDB structure 'all'...\nDesired structure doesn't exists\n"
    },
    {
     "output_type": "execute_result",
     "data": {
      "text/plain": "'c:\\\\Users\\\\Sasha\\\\Repos\\\\gitlab\\\\MIMIC\\\\ll\\\\all.cif'"
     },
     "metadata": {},
     "execution_count": 40
    }
   ],
   "source": [
    "from Bio.PDB import PDBList\n",
    "\n",
    "pdbl = PDBList()\n",
    "pdbl.retrieve_pdb_file(\"1FAT\")\n",
    "pdbl.retrieve_pdb_file(\"all\")"
   ]
  },
  {
   "cell_type": "code",
   "execution_count": 43,
   "metadata": {
    "tags": [
     "outputPrepend",
     "outputPrepend",
     "outputPrepend",
     "outputPrepend",
     "outputPrepend",
     "outputPrepend",
     "outputPrepend"
    ]
   },
   "outputs": [
    {
     "output_type": "stream",
     "name": "stdout",
     "text": ">\n<Atom NZ>\n<Atom N>\n<Atom CA>\n<Atom C>\n<Atom O>\n<Atom CB>\n<Atom CG>\n<Atom CD1>\n<Atom CD2>\n<Atom N>\n<Atom CA>\n<Atom C>\n<Atom O>\n<Atom CB>\n<Atom CG1>\n<Atom CG2>\n<Atom CD1>\n<Atom N>\n<Atom CA>\n<Atom C>\n<Atom O>\n<Atom CB>\n<Atom N>\n<Atom CA>\n<Atom C>\n<Atom O>\n<Atom CB>\n<Atom CG>\n<Atom OD1>\n<Atom ND2>\n<Atom N>\n<Atom CA>\n<Atom C>\n<Atom O>\n<Atom CB>\n<Atom CG>\n<Atom CD>\n<Atom OE1>\n<Atom NE2>\n<Atom N>\n<Atom CA>\n<Atom C>\n<Atom O>\n<Atom CB>\n<Atom CG>\n<Atom CD1>\n<Atom CD2>\n<Atom CE1>\n<Atom CE2>\n<Atom CZ>\n<Atom N>\n<Atom CA>\n<Atom C>\n<Atom O>\n<Atom CB>\n<Atom CG>\n<Atom OD1>\n<Atom ND2>\n<Atom N>\n<Atom CA>\n<Atom C>\n<Atom O>\n<Atom CB>\n<Atom OG>\n<Atom N>\n<Atom CA>\n<Atom C>\n<Atom O>\n<Atom CB>\n<Atom N>\n<Atom CA>\n<Atom C>\n<Atom O>\n<Atom CB>\n<Atom CG1>\n<Atom CG2>\n<Atom CD1>\n<Atom N>\n<Atom CA>\n<Atom C>\n<Atom O>\n<Atom N>\n<Atom CA>\n<Atom C>\n<Atom O>\n<Atom CB>\n<Atom CG>\n<Atom CD>\n<Atom CE>\n<Atom NZ>\n<Atom N>\n<Atom CA>\n<Atom C>\n<Atom O>\n<Atom CB>\n<Atom CG1>\n<Atom CG2>\n<Atom CD1>\n<Atom N>\n<Atom CA>\n<Atom C>\n<Atom O>\n<Atom CB>\n<Atom CG>\n<Atom CD>\n<Atom OE1>\n<Atom NE2>\n<Atom N>\n<Atom CA>\n<Atom C>\n<Atom O>\n<Atom CB>\n<Atom CG>\n<Atom OD1>\n<Atom OD2>\n<Atom N>\n<Atom CA>\n<Atom C>\n<Atom O>\n<Atom CB>\n<Atom OG>\n<Atom N>\n<Atom CA>\n<Atom C>\n<Atom O>\n<Atom CB>\n<Atom CG>\n<Atom CD1>\n<Atom CD2>\n<Atom N>\n<Atom CA>\n<Atom C>\n<Atom O>\n<Atom CB>\n<Atom OG>\n<Atom N>\n<Atom CA>\n<Atom C>\n<Atom O>\n<Atom CB>\n<Atom OG>\n<Atom N>\n<Atom CA>\n<Atom C>\n<Atom O>\n<Atom CB>\n<Atom OG1>\n<Atom CG2>\n<Atom N>\n<Atom CA>\n<Atom C>\n<Atom O>\n<Atom CB>\n<Atom N>\n<Atom CA>\n<Atom C>\n<Atom O>\n<Atom CB>\n<Atom OG>\n<Atom N>\n<Atom CA>\n<Atom C>\n<Atom O>\n<Atom CB>\n<Atom N>\n<Atom CA>\n<Atom C>\n<Atom O>\n<Atom CB>\n<Atom CG>\n<Atom CD1>\n<Atom CD2>\n<Atom N>\n<Atom CA>\n<Atom C>\n<Atom O>\n<Atom N>\n<Atom CA>\n<Atom C>\n<Atom O>\n<Atom CB>\n<Atom CG>\n<Atom CD>\n<Atom CE>\n<Atom NZ>\n<Atom N>\n<Atom CA>\n<Atom C>\n<Atom O>\n<Atom CB>\n<Atom CG>\n<Atom CD1>\n<Atom CD2>\n<Atom N>\n<Atom CA>\n<Atom C>\n<Atom O>\n<Atom CB>\n<Atom CG>\n<Atom CD>\n<Atom OE1>\n<Atom NE2>\n<Atom N>\n<Atom CA>\n<Atom C>\n<Atom O>\n<Atom CB>\n<Atom CG>\n<Atom OD1>\n<Atom OD2>\n<Atom N>\n<Atom CA>\n<Atom C>\n<Atom O>\n<Atom CB>\n<Atom CG1>\n<Atom CG2>\n<Atom N>\n<Atom CA>\n<Atom C>\n<Atom O>\n<Atom CB>\n<Atom CG1>\n<Atom CG2>\n<Atom N>\n<Atom CA>\n<Atom C>\n<Atom O>\n<Atom CB>\n<Atom CG>\n<Atom OD1>\n<Atom ND2>\n<Atom N>\n<Atom CA>\n<Atom C>\n<Atom O>\n<Atom CB>\n<Atom CG>\n<Atom CD>\n<Atom OE1>\n<Atom NE2>\n<Atom N>\n<Atom CA>\n<Atom C>\n<Atom O>\n<Atom CB>\n<Atom CG>\n<Atom OD1>\n<Atom ND2>\n<Atom N>\n<Atom CA>\n<Atom C>\n<Atom O>\n<Atom CB>\n<Atom N>\n<Atom CA>\n<Atom C>\n<Atom O>\n<Atom CB>\n<Atom CG>\n<Atom CD>\n<Atom OE1>\n<Atom NE2>\n<Atom N>\n<Atom CA>\n<Atom C>\n<Atom O>\n<Atom CB>\n<Atom N>\n<Atom CA>\n<Atom C>\n<Atom O>\n<Atom CB>\n<Atom CG>\n<Atom CD1>\n<Atom CD2>\n<Atom N>\n<Atom CA>\n<Atom C>\n<Atom O>\n<Atom CB>\n<Atom CG>\n<Atom OD1>\n<Atom ND2>\n<Atom N>\n<Atom CA>\n<Atom C>\n<Atom O>\n<Atom CB>\n<Atom OG1>\n<Atom CG2>\n<Atom N>\n<Atom CA>\n<Atom C>\n<Atom O>\n<Atom CB>\n<Atom CG>\n<Atom CD1>\n<Atom CD2>\n<Atom N>\n<Atom CA>\n<Atom C>\n<Atom O>\n<Atom CB>\n<Atom CG1>\n<Atom CG2>\n<Atom N>\n<Atom CA>\n<Atom C>\n<Atom O>\n<Atom CB>\n<Atom CG>\n<Atom CD>\n<Atom CE>\n<Atom NZ>\n<Atom N>\n<Atom CA>\n<Atom C>\n<Atom O>\n<Atom CB>\n<Atom CG>\n<Atom CD>\n<Atom OE1>\n<Atom NE2>\n<Atom N>\n<Atom CA>\n<Atom C>\n<Atom O>\n<Atom CB>\n<Atom CG>\n<Atom CD1>\n<Atom CD2>\n<Atom N>\n<Atom CA>\n<Atom C>\n<Atom O>\n<Atom CB>\n<Atom OG>\n<Atom N>\n<Atom CA>\n<Atom C>\n<Atom O>\n<Atom CB>\n<Atom OG>\n<Atom N>\n<Atom CA>\n<Atom C>\n<Atom O>\n<Atom CB>\n<Atom CG>\n<Atom OD1>\n<Atom ND2>\n<Atom N>\n<Atom CA>\n<Atom C>\n<Atom O>\n<Atom CB>\n<Atom CG>\n<Atom CD1>\n<Atom CD2>\n<Atom CE1>\n<Atom CE2>\n<Atom CZ>\n<Atom N>\n<Atom CA>\n<Atom C>\n<Atom O>\n<Atom N>\n<Atom CA>\n<Atom C>\n<Atom O>\n<Atom CB>\n<Atom N>\n<Atom CA>\n<Atom C>\n<Atom O>\n<Atom CB>\n<Atom CG1>\n<Atom CG2>\n<Atom CD1>\n<Atom N>\n<Atom CA>\n<Atom C>\n<Atom O>\n<Atom CB>\n<Atom OG>\n<Atom N>\n<Atom CA>\n<Atom C>\n<Atom O>\n<Atom CB>\n<Atom OG>\n<Atom N>\n<Atom CA>\n<Atom C>\n<Atom O>\n<Atom CB>\n<Atom CG1>\n<Atom CG2>\n<Atom N>\n<Atom CA>\n<Atom C>\n<Atom O>\n<Atom CB>\n<Atom CG>\n<Atom CD1>\n<Atom CD2>\n<Atom N>\n<Atom CA>\n<Atom C>\n<Atom O>\n<Atom CB>\n<Atom CG>\n<Atom OD1>\n<Atom ND2>\n<Atom N>\n<Atom CA>\n<Atom C>\n<Atom O>\n<Atom CB>\n<Atom CG>\n<Atom OD1>\n<Atom OD2>\n<Atom N>\n<Atom CA>\n<Atom C>\n<Atom O>\n<Atom CB>\n<Atom CG1>\n<Atom CG2>\n<Atom CD1>\n<Atom N>\n<Atom CA>\n<Atom C>\n<Atom O>\n<Atom CB>\n<Atom CG>\n<Atom CD1>\n<Atom CD2>\n<Atom N>\n<Atom CA>\n<Atom C>\n<Atom O>\n<Atom CB>\n<Atom OG>\n<Atom N>\n<Atom CA>\n<Atom C>\n<Atom O>\n<Atom CB>\n<Atom CG>\n<Atom CD>\n<Atom NE>\n<Atom CZ>\n<Atom NH1>\n<Atom NH2>\n<Atom N>\n<Atom CA>\n<Atom C>\n<Atom O>\n<Atom CB>\n<Atom CG>\n<Atom CD1>\n<Atom CD2>\n<Atom N>\n<Atom CA>\n<Atom C>\n<Atom O>\n<Atom CB>\n<Atom CG>\n<Atom OD1>\n<Atom OD2>\n<Atom N>\n<Atom CA>\n<Atom C>\n<Atom O>\n<Atom CB>\n<Atom CG>\n<Atom CD>\n<Atom N>\n<Atom CA>\n<Atom C>\n<Atom O>\n<Atom CB>\n<Atom CG>\n<Atom CD>\n<Atom N>\n<Atom CA>\n<Atom C>\n<Atom O>\n<Atom CB>\n<Atom CG>\n<Atom CD>\n<Atom OE1>\n<Atom OE2>\n<Atom N>\n<Atom CA>\n<Atom C>\n<Atom O>\n<Atom CB>\n<Atom N>\n<Atom CA>\n<Atom C>\n<Atom O>\n<Atom CB>\n<Atom CG>\n<Atom CD>\n<Atom OE1>\n<Atom OE2>\n<Atom N>\n<Atom CA>\n<Atom C>\n<Atom O>\n<Atom CB>\n<Atom CG1>\n<Atom CG2>\n<Atom N>\n<Atom CA>\n<Atom C>\n<Atom O>\n<Atom CB>\n<Atom CG>\n<Atom CD>\n<Atom OE1>\n<Atom NE2>\n<Atom N>\n<Atom CA>\n<Atom C>\n<Atom O>\n<Atom CB>\n<Atom CG1>\n<Atom CG2>\n<Atom CD1>\n<Atom N>\n<Atom CA>\n<Atom C>\n<Atom O>\n<Atom CB>\n<Atom CG>\n<Atom OD1>\n<Atom OD2>\n<Atom N>\n<Atom CA>\n<Atom C>\n<Atom O>\n<Atom CB>\n<Atom CG>\n<Atom CD>\n<Atom NE>\n<Atom CZ>\n<Atom NH1>\n<Atom NH2>\n<Atom N>\n<Atom CA>\n<Atom C>\n<Atom O>\n<Atom CB>\n<Atom CG>\n<Atom CD1>\n<Atom CD2>\n<Atom N>\n<Atom CA>\n<Atom C>\n<Atom O>\n<Atom CB>\n<Atom CG1>\n<Atom CG2>\n<Atom CD1>\n<Atom N>\n<Atom CA>\n<Atom C>\n<Atom O>\n<Atom CB>\n<Atom OG1>\n<Atom CG2>\n<Atom N>\n<Atom CA>\n<Atom C>\n<Atom O>\n<Atom N>\n<Atom CA>\n<Atom C>\n<Atom O>\n<Atom CB>\n<Atom CG>\n<Atom CD>\n<Atom NE>\n<Atom CZ>\n<Atom NH1>\n<Atom NH2>\n<Atom N>\n<Atom CA>\n<Atom C>\n<Atom O>\n<Atom CB>\n<Atom CG>\n<Atom CD1>\n<Atom CD2>\n<Atom N>\n<Atom CA>\n<Atom C>\n<Atom O>\n<Atom CB>\n<Atom CG>\n<Atom CD>\n<Atom OE1>\n<Atom NE2>\n<Atom N>\n<Atom CA>\n<Atom C>\n<Atom O>\n<Atom CB>\n<Atom OG>\n<Atom N>\n<Atom CA>\n<Atom C>\n<Atom O>\n<Atom CB>\n<Atom CG>\n<Atom CD1>\n<Atom CD2>\n<Atom N>\n<Atom CA>\n<Atom C>\n<Atom O>\n<Atom CB>\n<Atom CG>\n<Atom CD>\n<Atom OE1>\n<Atom NE2>\n<Atom N>\n<Atom CA>\n<Atom C>\n<Atom O>\n<Atom CB>\n<Atom OG1>\n<Atom CG2>\n<Atom N>\n<Atom CA>\n<Atom C>\n<Atom O>\n<Atom CB>\n<Atom CG>\n<Atom CD1>\n<Atom CD2>\n<Atom CE1>\n<Atom CE2>\n<Atom CZ>\n<Atom OH>\n<Atom N>\n<Atom CA>\n<Atom C>\n<Atom O>\n<Atom CB>\n<Atom CG1>\n<Atom CG2>\n<Atom N>\n<Atom CA>\n<Atom C>\n<Atom O>\n<Atom CB>\n<Atom OG1>\n<Atom CG2>\n<Atom N>\n<Atom CA>\n<Atom C>\n<Atom O>\n<Atom CB>\n<Atom CG>\n<Atom CD>\n<Atom OE1>\n<Atom NE2>\n<Atom N>\n<Atom CA>\n<Atom C>\n<Atom O>\n<Atom CB>\n<Atom CG>\n<Atom CD>\n<Atom OE1>\n<Atom NE2>\n<Atom N>\n<Atom CA>\n<Atom C>\n<Atom O>\n<Atom CB>\n<Atom CG>\n<Atom CD1>\n<Atom CD2>\n<Atom N>\n<Atom CA>\n<Atom C>\n<Atom O>\n<Atom CB>\n<Atom CG1>\n<Atom CG2>\n<Atom CD1>\n<Atom N>\n<Atom CA>\n<Atom C>\n<Atom O>\n<Atom CB>\n<Atom CG>\n<Atom CD>\n<Atom NE>\n<Atom CZ>\n<Atom NH1>\n<Atom NH2>\n<Atom N>\n<Atom CA>\n<Atom C>\n<Atom O>\n<Atom CB>\n<Atom N>\n<Atom CA>\n<Atom C>\n<Atom O>\n<Atom CB>\n<Atom N>\n<Atom CA>\n<Atom C>\n<Atom O>\n<Atom CB>\n<Atom CG>\n<Atom CD>\n<Atom OE1>\n<Atom OE2>\n<Atom N>\n<Atom CA>\n<Atom C>\n<Atom O>\n<Atom CB>\n<Atom CG1>\n<Atom CG2>\n<Atom CD1>\n<Atom N>\n<Atom CA>\n<Atom C>\n<Atom O>\n<Atom CB>\n<Atom CG>\n<Atom CD>\n<Atom NE>\n<Atom CZ>\n<Atom NH1>\n<Atom NH2>\n<Atom N>\n<Atom CA>\n<Atom C>\n<Atom O>\n<Atom CB>\n<Atom N>\n<Atom CA>\n<Atom C>\n<Atom O>\n<Atom CB>\n<Atom OG>\n<Atom N>\n<Atom CA>\n<Atom C>\n<Atom O>\n<Atom CB>\n<Atom N>\n<Atom CA>\n<Atom C>\n<Atom O>\n<Atom CB>\n<Atom CG>\n<Atom OD1>\n<Atom ND2>\n<Atom N>\n<Atom CA>\n<Atom C>\n<Atom O>\n<Atom CB>\n<Atom CG>\n<Atom CD1>\n<Atom CD2>\n<Atom N>\n<Atom CA>\n<Atom C>\n<Atom O>\n<Atom CB>\n<Atom N>\n<Atom CA>\n<Atom C>\n<Atom O>\n<Atom CB>\n<Atom N>\n<Atom CA>\n<Atom C>\n<Atom O>\n<Atom CB>\n<Atom OG1>\n<Atom CG2>\n<Atom N>\n<Atom CA>\n<Atom C>\n<Atom O>\n<Atom CB>\n<Atom CG>\n<Atom CD>\n<Atom CE>\n<Atom NZ>\n<Atom N>\n<Atom CA>\n<Atom C>\n<Atom O>\n<Atom CB>\n<Atom CG>\n<Atom SD>\n<Atom CE>\n<Atom N>\n<Atom CA>\n<Atom C>\n<Atom O>\n<Atom CB>\n<Atom OG>\n<Atom N>\n<Atom CA>\n<Atom C>\n<Atom O>\n<Atom CB>\n<Atom CG>\n<Atom CD>\n<Atom OE1>\n<Atom OE2>\n<Atom N>\n<Atom CA>\n<Atom C>\n<Atom O>\n<Atom CB>\n<Atom SG>\n<Atom N>\n<Atom CA>\n<Atom C>\n<Atom O>\n<Atom CB>\n<Atom CG1>\n<Atom CG2>\n<Atom N>\n<Atom CA>\n<Atom C>\n<Atom O>\n<Atom CB>\n<Atom CG>\n<Atom CD1>\n<Atom CD2>\n<Atom N>\n<Atom CA>\n<Atom C>\n<Atom O>\n<Atom N>\n<Atom CA>\n<Atom C>\n<Atom O>\n<Atom CB>\n<Atom CG>\n<Atom CD>\n<Atom OE1>\n<Atom NE2>\n<Atom N>\n<Atom CA>\n<Atom C>\n<Atom O>\n<Atom CB>\n<Atom OG>\n<Atom N>\n<Atom CA>\n<Atom C>\n<Atom O>\n<Atom CB>\n<Atom CG>\n<Atom CD>\n<Atom CE>\n<Atom NZ>\n<Atom N>\n<Atom CA>\n<Atom C>\n<Atom O>\n<Atom CB>\n<Atom CG>\n<Atom CD>\n<Atom NE>\n<Atom CZ>\n<Atom NH1>\n<Atom NH2>\n<Atom N>\n<Atom CA>\n<Atom C>\n<Atom O>\n<Atom CB>\n<Atom CG1>\n<Atom CG2>\n<Atom N>\n<Atom CA>\n<Atom C>\n<Atom O>\n<Atom CB>\n<Atom CG>\n<Atom OD1>\n<Atom OD2>\n<Atom N>\n<Atom CA>\n<Atom C>\n<Atom O>\n<Atom CB>\n<Atom CG>\n<Atom CD1>\n<Atom CD2>\n<Atom CE1>\n<Atom CE2>\n<Atom CZ>\n<Atom N>\n<Atom CA>\n<Atom C>\n<Atom O>\n<Atom CB>\n<Atom SG>\n<Atom N>\n<Atom CA>\n<Atom C>\n<Atom O>\n<Atom N>\n<Atom CA>\n<Atom C>\n<Atom O>\n<Atom CB>\n<Atom CG>\n<Atom CD>\n<Atom CE>\n<Atom NZ>\n<Atom N>\n<Atom CA>\n<Atom C>\n<Atom O>\n<Atom N>\n<Atom CA>\n<Atom C>\n<Atom O>\n<Atom CB>\n<Atom CG>\n<Atom CD1>\n<Atom CD2>\n<Atom CE1>\n<Atom CE2>\n<Atom CZ>\n<Atom OH>\n<Atom N>\n<Atom CA>\n<Atom C>\n<Atom O>\n<Atom CB>\n<Atom CG>\n<Atom ND1>\n<Atom CD2>\n<Atom CE1>\n<Atom NE2>\n<Atom N>\n<Atom CA>\n<Atom C>\n<Atom O>\n<Atom CB>\n<Atom CG>\n<Atom CD1>\n<Atom CD2>\n<Atom N>\n<Atom CA>\n<Atom C>\n<Atom O>\n<Atom CB>\n<Atom CG>\n<Atom SD>\n<Atom CE>\n<Atom N>\n<Atom CA>\n<Atom C>\n<Atom O>\n<Atom CB>\n<Atom OG>\n<Atom N>\n<Atom CA>\n<Atom C>\n<Atom O>\n<Atom CB>\n<Atom CG>\n<Atom CD1>\n<Atom CD2>\n<Atom CE1>\n<Atom CE2>\n<Atom CZ>\n<Atom N>\n<Atom CA>\n<Atom C>\n<Atom O>\n<Atom CB>\n<Atom CG>\n<Atom CD>\n<Atom N>\n<Atom CA>\n<Atom C>\n<Atom O>\n<Atom CB>\n<Atom CG>\n<Atom CD>\n<Atom OE1>\n<Atom NE2>\n<Atom N>\n<Atom CA>\n<Atom C>\n<Atom O>\n<Atom CB>\n<Atom OG>\n<Atom N>\n<Atom CA>\n<Atom C>\n<Atom O>\n<Atom CB>\n<Atom N>\n<Atom CA>\n<Atom C>\n<Atom O>\n<Atom CB>\n<Atom CG>\n<Atom CD>\n<Atom N>\n<Atom CA>\n<Atom C>\n<Atom O>\n<Atom CB>\n<Atom CG>\n<Atom ND1>\n<Atom CD2>\n<Atom CE1>\n<Atom NE2>\n<Atom N>\n<Atom CA>\n<Atom C>\n<Atom O>\n<Atom N>\n<Atom CA>\n<Atom C>\n<Atom O>\n<Atom CB>\n<Atom CG1>\n<Atom CG2>\n<Atom N>\n<Atom CA>\n<Atom C>\n<Atom O>\n<Atom CB>\n<Atom CG1>\n<Atom CG2>\n<Atom N>\n<Atom CA>\n<Atom C>\n<Atom O>\n<Atom CB>\n<Atom CG>\n<Atom CD1>\n<Atom CD2>\n<Atom CE1>\n<Atom CE2>\n<Atom CZ>\n<Atom N>\n<Atom CA>\n<Atom C>\n<Atom O>\n<Atom CB>\n<Atom CG>\n<Atom CD1>\n<Atom CD2>\n<Atom N>\n<Atom CA>\n<Atom C>\n<Atom O>\n<Atom CB>\n<Atom CG>\n<Atom ND1>\n<Atom CD2>\n<Atom CE1>\n<Atom NE2>\n<Atom N>\n<Atom CA>\n<Atom C>\n<Atom O>\n<Atom CB>\n<Atom CG1>\n<Atom CG2>\n<Atom N>\n<Atom CA>\n<Atom C>\n<Atom O>\n<Atom CB>\n<Atom OG1>\n<Atom CG2>\n<Atom N>\n<Atom CA>\n<Atom C>\n<Atom O>\n<Atom CB>\n<Atom CG>\n<Atom CD1>\n<Atom CD2>\n<Atom CE1>\n<Atom CE2>\n<Atom CZ>\n<Atom OH>\n<Atom N>\n<Atom CA>\n<Atom C>\n<Atom O>\n<Atom CB>\n<Atom CG1>\n<Atom CG2>\n<Atom N>\n<Atom CA>\n<Atom C>\n<Atom O>\n<Atom CB>\n<Atom CG>\n<Atom CD>\n<Atom N>\n<Atom CA>\n<Atom C>\n<Atom O>\n<Atom CB>\n<Atom N>\n<Atom CA>\n<Atom C>\n<Atom O>\n<Atom CB>\n<Atom CG>\n<Atom CD>\n<Atom OE1>\n<Atom NE2>\n<Atom N>\n<Atom CA>\n<Atom C>\n<Atom O>\n<Atom CB>\n<Atom CG>\n<Atom CD>\n<Atom OE1>\n<Atom OE2>\n<Atom N>\n<Atom CA>\n<Atom C>\n<Atom O>\n<Atom CB>\n<Atom CG>\n<Atom CD>\n<Atom CE>\n<Atom NZ>\n<Atom N>\n<Atom CA>\n<Atom C>\n<Atom O>\n<Atom CB>\n<Atom CG>\n<Atom OD1>\n<Atom ND2>\n<Atom N>\n<Atom CA>\n<Atom C>\n<Atom O>\n<Atom CB>\n<Atom CG>\n<Atom CD1>\n<Atom CD2>\n<Atom CE1>\n<Atom CE2>\n<Atom CZ>\n<Atom N>\n<Atom CA>\n<Atom C>\n<Atom O>\n<Atom CB>\n<Atom OG1>\n<Atom CG2>\n<Atom N>\n<Atom CA>\n<Atom C>\n<Atom O>\n<Atom CB>\n<Atom OG1>\n<Atom CG2>\n<Atom N>\n<Atom CA>\n<Atom C>\n<Atom O>\n<Atom CB>\n<Atom N>\n<Atom CA>\n<Atom C>\n<Atom O>\n<Atom CB>\n<Atom CG>\n<Atom CD>\n<Atom N>\n<Atom CA>\n<Atom C>\n<Atom O>\n<Atom CB>\n<Atom N>\n<Atom CA>\n<Atom C>\n<Atom O>\n<Atom CB>\n<Atom CG1>\n<Atom CG2>\n<Atom CD1>\n<Atom N>\n<Atom CA>\n<Atom C>\n<Atom O>\n<Atom CB>\n<Atom SG>\n<Atom N>\n<Atom CA>\n<Atom C>\n<Atom O>\n<Atom CB>\n<Atom CG>\n<Atom ND1>\n<Atom CD2>\n<Atom CE1>\n<Atom NE2>\n<Atom N>\n<Atom CA>\n<Atom C>\n<Atom O>\n<Atom CB>\n<Atom CG>\n<Atom OD1>\n<Atom OD2>\n<Atom N>\n<Atom CA>\n<Atom C>\n<Atom O>\n<Atom N>\n<Atom CA>\n<Atom C>\n<Atom O>\n<Atom CB>\n<Atom CG>\n<Atom CD>\n<Atom CE>\n<Atom NZ>\n<Atom N>\n<Atom CA>\n<Atom C>\n<Atom O>\n<Atom CB>\n<Atom N>\n<Atom CA>\n<Atom C>\n<Atom O>\n<Atom CB>\n<Atom CG>\n<Atom ND1>\n<Atom CD2>\n<Atom CE1>\n<Atom NE2>\n<Atom N>\n<Atom CA>\n<Atom C>\n<Atom O>\n<Atom CB>\n<Atom CG>\n<Atom CD1>\n<Atom CD2>\n<Atom CE1>\n<Atom CE2>\n<Atom CZ>\n<Atom N>\n<Atom CA>\n<Atom C>\n<Atom O>\n<Atom CB>\n<Atom CG>\n<Atom CD>\n<Atom N>\n<Atom CA>\n<Atom C>\n<Atom O>\n<Atom CB>\n<Atom CG>\n<Atom CD>\n<Atom NE>\n<Atom CZ>\n<Atom NH1>\n<Atom NH2>\n<Atom N>\n<Atom CA>\n<Atom C>\n<Atom O>\n<Atom CB>\n<Atom CG>\n<Atom CD>\n<Atom OE1>\n<Atom OE2>\n<Atom N>\n<Atom CA>\n<Atom C>\n<Atom O>\n<Atom N>\n<Atom CA>\n<Atom C>\n<Atom O>\n<Atom CB>\n<Atom CG1>\n<Atom CG2>\n<Atom N>\n<Atom CA>\n<Atom C>\n<Atom O>\n<Atom CB>\n<Atom CG>\n<Atom CD1>\n<Atom CD2>\n<Atom CE1>\n<Atom CE2>\n<Atom CZ>\n<Atom N>\n<Atom CA>\n<Atom C>\n<Atom O>\n<Atom CB>\n<Atom CG1>\n<Atom CG2>\n<Atom N>\n<Atom CA>\n<Atom C>\n<Atom O>\n<Atom CB>\n<Atom OG>\n<Atom N>\n<Atom CA>\n<Atom C>\n<Atom O>\n<Atom CB>\n<Atom CG>\n<Atom OD1>\n<Atom ND2>\n<Atom N>\n<Atom CA>\n<Atom C>\n<Atom O>\n<Atom N>\n<Atom CA>\n<Atom C>\n<Atom O>\n<Atom CB>\n<Atom OG1>\n<Atom CG2>\n<Atom N>\n<Atom CA>\n<Atom C>\n<Atom O>\n<Atom CB>\n<Atom CG>\n<Atom ND1>\n<Atom CD2>\n<Atom CE1>\n<Atom NE2>\n<Atom N>\n<Atom CA>\n<Atom C>\n<Atom O>\n<Atom CB>\n<Atom CG>\n<Atom CD1>\n<Atom CD2>\n<Atom NE1>\n<Atom CE2>\n<Atom CE3>\n<Atom CZ2>\n<Atom CZ3>\n<Atom CH2>\n<Atom N>\n<Atom CA>\n<Atom C>\n<Atom O>\n<Atom CB>\n<Atom CG>\n<Atom CD1>\n<Atom CD2>\n<Atom CE1>\n<Atom CE2>\n<Atom CZ>\n<Atom N>\n<Atom CA>\n<Atom C>\n<Atom O>\n<Atom CB>\n<Atom CG1>\n<Atom CG2>\n<Atom N>\n<Atom CA>\n<Atom C>\n<Atom O>\n<Atom CB>\n<Atom OG1>\n<Atom CG2>\n<Atom N>\n<Atom CA>\n<Atom C>\n<Atom O>\n<Atom CB>\n<Atom CG>\n<Atom CD>\n<Atom OE1>\n<Atom NE2>\n<Atom N>\n<Atom CA>\n<Atom C>\n<Atom O>\n<Atom CB>\n<Atom CG>\n<Atom CD>\n<Atom NE>\n<Atom CZ>\n<Atom NH1>\n<Atom NH2>\n<Atom N>\n<Atom CA>\n<Atom C>\n<Atom O>\n<Atom CB>\n<Atom CG>\n<Atom OD1>\n<Atom ND2>\n<Atom N>\n<Atom CA>\n<Atom C>\n<Atom O>\n<Atom CB>\n<Atom CG>\n<Atom CD1>\n<Atom CD2>\n<Atom CE1>\n<Atom CE2>\n<Atom CZ>\n<Atom N>\n<Atom CA>\n<Atom C>\n<Atom O>\n<Atom CB>\n<Atom CG>\n<Atom CD1>\n<Atom CD2>\n<Atom CE1>\n<Atom CE2>\n<Atom CZ>\n<Atom OH>\n<Atom N>\n<Atom CA>\n<Atom C>\n<Atom O>\n<Atom CB>\n<Atom CG>\n<Atom CD>\n<Atom OE1>\n<Atom OE2>\n<Atom N>\n<Atom CA>\n<Atom C>\n<Atom O>\n<Atom CB>\n<Atom CG>\n<Atom CD>\n<Atom N>\n<Atom CA>\n<Atom C>\n<Atom O>\n<Atom CB>\n<Atom CG>\n<Atom CD>\n<Atom OE1>\n<Atom NE2>\n<Atom N>\n<Atom CA>\n<Atom C>\n<Atom O>\n<Atom CB>\n<Atom CG1>\n<Atom CG2>\n<Atom CD1>\n<Atom N>\n<Atom CA>\n<Atom C>\n<Atom O>\n<Atom CB>\n<Atom CG1>\n<Atom CG2>\n<Atom CD1>\n<Atom N>\n<Atom CA>\n<Atom C>\n<Atom O>\n<Atom CB>\n<Atom OG1>\n<Atom CG2>\n<Atom N>\n<Atom CA>\n<Atom C>\n<Atom O>\n<Atom CB>\n<Atom OG1>\n<Atom CG2>\n<Atom N>\n<Atom CA>\n<Atom C>\n<Atom O>\n<Atom CB>\n<Atom CG>\n<Atom OD1>\n<Atom OD2>\n<Atom N>\n<Atom CA>\n<Atom C>\n<Atom O>\n<Atom CB>\n<Atom CG>\n<Atom OD1>\n<Atom ND2>\n<Atom N>\n<Atom CA>\n<Atom C>\n<Atom O>\n<Atom CB>\n<Atom OG1>\n<Atom CG2>\n<Atom N>\n<Atom CA>\n<Atom C>\n<Atom O>\n<Atom CB>\n<Atom CG>\n<Atom CD1>\n<Atom CD2>\n<Atom CE1>\n<Atom CE2>\n<Atom CZ>\n<Atom N>\n<Atom CA>\n<Atom C>\n<Atom O>\n<Atom CB>\n<Atom CG1>\n<Atom CG2>\n<Atom N>\n<Atom CA>\n<Atom C>\n<Atom O>\n<Atom CB>\n<Atom OG>\n<Atom N>\n<Atom CA>\n<Atom C>\n<Atom O>\n<Atom N>\n<Atom CA>\n<Atom C>\n<Atom O>\n<Atom CB>\n<Atom CG>\n<Atom OD1>\n<Atom ND2>\n<Atom N>\n<Atom CA>\n<Atom C>\n<Atom O>\n<Atom CB>\n<Atom SG>\n<Atom N>\n<Atom CA>\n<Atom C>\n<Atom O>\n<Atom CB>\n<Atom CG>\n<Atom OD1>\n<Atom OD2>\n<Atom N>\n<Atom CA>\n<Atom C>\n<Atom O>\n<Atom CB>\n<Atom CG1>\n<Atom CG2>\n<Atom N>\n<Atom CA>\n<Atom C>\n<Atom O>\n<Atom CB>\n<Atom CG1>\n<Atom CG2>\n<Atom N>\n<Atom CA>\n<Atom C>\n<Atom O>\n<Atom CB>\n<Atom CG1>\n<Atom CG2>\n<Atom CD1>\n<Atom N>\n<Atom CA>\n<Atom C>\n<Atom O>\n<Atom N>\n<Atom CA>\n<Atom C>\n<Atom O>\n<Atom CB>\n<Atom CG1>\n<Atom CG2>\n<Atom CD1>\n<Atom N>\n<Atom CA>\n<Atom C>\n<Atom O>\n<Atom CB>\n<Atom CG1>\n<Atom CG2>\n<Atom N>\n<Atom CA>\n<Atom C>\n<Atom O>\n<Atom CB>\n<Atom CG>\n<Atom OD1>\n<Atom ND2>\n<Atom N>\n<Atom CA>\n<Atom C>\n<Atom O>\n<Atom CB>\n<Atom CG>\n<Atom OD1>\n<Atom ND2>\n<Atom N>\n<Atom CA>\n<Atom C>\n<Atom O>\n<Atom CB>\n<Atom OG1>\n<Atom CG2>\n<Atom N>\n<Atom CA>\n<Atom C>\n<Atom O>\n<Atom CB>\n<Atom CG1>\n<Atom CG2>\n<Atom N>\n<Atom CA>\n<Atom C>\n<Atom O>\n<Atom CB>\n<Atom CG>\n<Atom CD1>\n<Atom CD2>\n<Atom CE1>\n<Atom CE2>\n<Atom CZ>\n<Atom OH>\n<Atom N>\n<Atom CA>\n<Atom C>\n<Atom O>\n<Atom CB>\n<Atom CG>\n<Atom OD1>\n<Atom OD2>\n<Atom N>\n<Atom CA>\n<Atom C>\n<Atom O>\n<Atom CB>\n<Atom CG>\n<Atom CD>\n<Atom N>\n<Atom CA>\n<Atom C>\n<Atom O>\n<Atom CB>\n<Atom CG>\n<Atom CD1>\n<Atom CD2>\n<Atom N>\n<Atom CA>\n<Atom C>\n<Atom O>\n<Atom CB>\n<Atom CG>\n<Atom CD>\n<Atom OE1>\n<Atom NE2>\n<Atom N>\n<Atom CA>\n<Atom C>\n<Atom O>\n<Atom CB>\n<Atom CG>\n<Atom CD>\n<Atom N>\n<Atom CA>\n<Atom C>\n<Atom O>\n<Atom CB>\n<Atom CG>\n<Atom CD>\n<Atom OE1>\n<Atom OE2>\n<Atom N>\n<Atom CA>\n<Atom C>\n<Atom O>\n<Atom CB>\n<Atom CG>\n<Atom CD1>\n<Atom CD2>\n<Atom N>\n<Atom CA>\n<Atom C>\n<Atom O>\n<Atom CB>\n<Atom CG>\n<Atom OD1>\n<Atom OD2>\n<Atom N>\n<Atom CA>\n<Atom C>\n<Atom O>\n<Atom CB>\n<Atom OG>\n<Atom C1>\n<Atom C2>\n<Atom C3>\n<Atom C4>\n<Atom C5>\n<Atom C6>\n<Atom C7>\n<Atom C8>\n<Atom N2>\n<Atom O3>\n<Atom O4>\n<Atom O5>\n<Atom O6>\n<Atom O7>\n<Atom C1>\n<Atom C2>\n<Atom C3>\n<Atom C4>\n<Atom C5>\n<Atom C6>\n<Atom C7>\n<Atom C8>\n<Atom N2>\n<Atom O3>\n<Atom O4>\n<Atom O5>\n<Atom O6>\n<Atom O7>\n<Atom C1>\n<Atom C2>\n<Atom C3>\n<Atom C4>\n<Atom C5>\n<Atom C6>\n<Atom C7>\n<Atom C8>\n<Atom N2>\n<Atom O3>\n<Atom O4>\n<Atom O5>\n<Atom O6>\n<Atom O7>\n<Atom C1>\n<Atom C2>\n<Atom C3>\n<Atom C4>\n<Atom C5>\n<Atom C6>\n<Atom C7>\n<Atom C8>\n<Atom N2>\n<Atom O3>\n<Atom O4>\n<Atom O5>\n<Atom O6>\n<Atom O7>\n<Atom C1>\n<Atom C2>\n<Atom C3>\n<Atom C4>\n<Atom C5>\n<Atom C6>\n<Atom C7>\n<Atom C8>\n<Atom N2>\n<Atom O3>\n<Atom O4>\n<Atom O5>\n<Atom O6>\n<Atom O7>\n<Atom C1>\n<Atom C2>\n<Atom C3>\n<Atom C4>\n<Atom C5>\n<Atom C6>\n<Atom C7>\n<Atom C8>\n<Atom N2>\n<Atom O3>\n<Atom O4>\n<Atom O5>\n<Atom O6>\n<Atom O7>\n<Atom C1>\n<Atom C2>\n<Atom C3>\n<Atom C4>\n<Atom C5>\n<Atom C6>\n<Atom C7>\n<Atom C8>\n<Atom N2>\n<Atom O3>\n<Atom O4>\n<Atom O5>\n<Atom O6>\n<Atom O7>\n<Atom C1>\n<Atom C2>\n<Atom C3>\n<Atom C4>\n<Atom C5>\n<Atom C6>\n<Atom C7>\n<Atom C8>\n<Atom N2>\n<Atom O3>\n<Atom O4>\n<Atom O5>\n<Atom O6>\n<Atom O7>\n<Atom C1>\n<Atom C2>\n<Atom C3>\n<Atom C4>\n<Atom C5>\n<Atom C6>\n<Atom C7>\n<Atom C8>\n<Atom N2>\n<Atom O3>\n<Atom O4>\n<Atom O5>\n<Atom O6>\n<Atom O7>\n<Atom C1>\n<Atom C2>\n<Atom C3>\n<Atom C4>\n<Atom C5>\n<Atom C6>\n<Atom C7>\n<Atom C8>\n<Atom N2>\n<Atom O3>\n<Atom O4>\n<Atom O5>\n<Atom O6>\n<Atom O7>\n<Atom C1>\n<Atom C2>\n<Atom C3>\n<Atom C4>\n<Atom C5>\n<Atom C6>\n<Atom C7>\n<Atom C8>\n<Atom N2>\n<Atom O3>\n<Atom O4>\n<Atom O5>\n<Atom O6>\n<Atom O7>\n<Atom C1>\n<Atom C2>\n<Atom C3>\n<Atom C4>\n<Atom C5>\n<Atom C6>\n<Atom C7>\n<Atom C8>\n<Atom N2>\n<Atom O3>\n<Atom O4>\n<Atom O5>\n<Atom O6>\n<Atom O7>\n<Atom C1>\n<Atom C2>\n<Atom C3>\n<Atom C4>\n<Atom C5>\n<Atom C6>\n<Atom C7>\n<Atom C8>\n<Atom N2>\n<Atom O3>\n<Atom O4>\n<Atom O5>\n<Atom O6>\n<Atom O7>\n<Atom C1>\n<Atom C2>\n<Atom C3>\n<Atom C4>\n<Atom C5>\n<Atom C6>\n<Atom C7>\n<Atom C8>\n<Atom N2>\n<Atom O3>\n<Atom O4>\n<Atom O5>\n<Atom O6>\n<Atom O7>\n<Atom C1>\n<Atom C2>\n<Atom C3>\n<Atom C4>\n<Atom C5>\n<Atom C6>\n<Atom C7>\n<Atom C8>\n<Atom N2>\n<Atom O3>\n<Atom O4>\n<Atom O5>\n<Atom O6>\n<Atom O7>\n<Atom C1>\n<Atom C2>\n<Atom C3>\n<Atom C4>\n<Atom C5>\n<Atom C6>\n<Atom C7>\n<Atom C8>\n<Atom N2>\n<Atom O3>\n<Atom O4>\n<Atom O5>\n<Atom O6>\n<Atom O7>\n<Atom C1>\n<Atom C2>\n<Atom C3>\n<Atom C4>\n<Atom C5>\n<Atom C6>\n<Atom C7>\n<Atom C8>\n<Atom N2>\n<Atom O3>\n<Atom O4>\n<Atom O5>\n<Atom O6>\n<Atom O7>\n<Atom C1>\n<Atom C2>\n<Atom C3>\n<Atom C4>\n<Atom C5>\n<Atom C6>\n<Atom C7>\n<Atom C8>\n<Atom N2>\n<Atom O3>\n<Atom O4>\n<Atom O5>\n<Atom O6>\n<Atom O7>\n<Atom C1>\n<Atom C2>\n<Atom C3>\n<Atom C4>\n<Atom C5>\n<Atom C6>\n<Atom C7>\n<Atom C8>\n<Atom N2>\n<Atom O3>\n<Atom O4>\n<Atom O5>\n<Atom O6>\n<Atom O7>\n<Atom C1>\n<Atom C2>\n<Atom C3>\n<Atom C4>\n<Atom C5>\n<Atom C6>\n<Atom C7>\n<Atom C8>\n<Atom N2>\n<Atom O3>\n<Atom O4>\n<Atom O5>\n<Atom O6>\n<Atom O7>\n<Atom C1>\n<Atom C2>\n<Atom C3>\n<Atom C4>\n<Atom C5>\n<Atom C6>\n<Atom C7>\n<Atom C8>\n<Atom N2>\n<Atom O3>\n<Atom O4>\n<Atom O5>\n<Atom O6>\n<Atom O7>\n"
    }
   ],
   "source": [
    "from Bio.PDB.PDBParser import PDBParser\n",
    "from pathlib import Path\n",
    "\n",
    "parser = PDBParser(PERMISSIVE=1)\n",
    "\n",
    "structure_id = \"pepsurf\"\n",
    "filename = Path(\"data/6vxx_pepsurf_1592103509_pipe.pdb\")\n",
    "\n",
    "structure = parser.get_structure(structure_id, filename)\n",
    "\n",
    "# p = PDBParser()\n",
    "# structure = p.get_structure(\"X\", \"pdb1fat.ent\")\n",
    "\n",
    "\n",
    "# for model in structure:\n",
    "#     for chain in model:\n",
    "#         for residue in chain:\n",
    "#             for atom in residue:\n",
    "#                 print(atom)\n",
    "\n",
    "atoms = structure.get_atoms()\n",
    "for atom in atoms:\n",
    "    print(atom)"
   ]
  },
  {
   "cell_type": "code",
   "execution_count": 59,
   "metadata": {},
   "outputs": [
    {
     "output_type": "stream",
     "name": "stdout",
     "text": "TACAA\nTACGC\nTACAC\nTACCC\nAACCC\nAATGC\nAATGC\n\nLength: 5\nCounts:\n         0      1      2      3      4\nA:   3.00   7.00   0.00   2.00   1.00\nC:   0.00   0.00   5.00   2.00   6.00\nG:   0.00   0.00   0.00   3.00   0.00\nT:   4.00   0.00   2.00   0.00   0.00\n\nA Counts:\n [3, 7, 0, 2, 1]\nT Counts in 2:\n 4\n3 Position Counts:\n {'A': 2, 'C': 2, 'G': 3, 'T': 0}\nConsensus: TACGC\nAnticonsensus: CCATG\nDegenerate Consensus: WACVC\n"
    }
   ],
   "source": [
    "from Bio import motifs\n",
    "\n",
    "from Bio.Seq import Seq\n",
    "instances = [Seq(\"TACAA\"),\n",
    "Seq(\"TACGC\"),\n",
    "Seq(\"TACAC\"),\n",
    "Seq(\"TACCC\"),\n",
    "Seq(\"AACCC\"),\n",
    "Seq(\"AATGC\"),\n",
    "Seq(\"AATGC\"),]\n",
    "\n",
    "m = motifs.create(instances)\n",
    "print(m)\n",
    "print(\"Length:\", len(m))\n",
    "print(\"Counts:\\n\", m.counts)\n",
    "print(\"A Counts:\\n\", m.counts[\"A\"])\n",
    "print(\"T Counts in 2:\\n\", m.counts[\"T\", 0])\n",
    "print(\"3 Position Counts:\\n\", m.counts[:, 3])\n",
    "print(\"Consensus:\", m.consensus)\n",
    "print(\"Anticonsensus:\", m.anticonsensus)\n",
    "print(\"Degenerate Consensus:\", m.degenerate_consensus) # W is either A or T, and V is A, C, or G\n",
    "\n",
    "m.weblogo(\"mymotif.png\")"
   ]
  }
 ],
 "metadata": {
  "language_info": {
   "codemirror_mode": {
    "name": "ipython",
    "version": 3
   },
   "file_extension": ".py",
   "mimetype": "text/x-python",
   "name": "python",
   "nbconvert_exporter": "python",
   "pygments_lexer": "ipython3",
   "version": "3.8.3-final"
  },
  "orig_nbformat": 2,
  "kernelspec": {
   "name": "python38364bitmimicconda48c5a9b50f17460189853b4239de1e45",
   "display_name": "Python 3.8.3 64-bit ('mimic': conda)"
  }
 },
 "nbformat": 4,
 "nbformat_minor": 2
}